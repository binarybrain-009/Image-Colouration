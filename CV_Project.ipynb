{
  "nbformat": 4,
  "nbformat_minor": 0,
  "metadata": {
    "colab": {
      "provenance": [],
      "gpuType": "A100",
      "machine_shape": "hm"
    },
    "kernelspec": {
      "name": "python3",
      "display_name": "Python 3"
    },
    "language_info": {
      "name": "python"
    },
    "accelerator": "GPU"
  },
  "cells": [
    {
      "cell_type": "code",
      "source": [
        "from fastai.data.external import untar_data, URLs\n",
        "coco_path = untar_data(URLs.COCO_SAMPLE)\n",
        "coco_path = str(coco_path) + \"/train_sample\""
      ],
      "metadata": {
        "id": "s0kIGpNDiHhV",
        "colab": {
          "base_uri": "https://localhost:8080/",
          "height": 37
        },
        "outputId": "8d7a79a3-bf98-47b1-9893-37bac611f2be"
      },
      "execution_count": 1,
      "outputs": [
        {
          "output_type": "display_data",
          "data": {
            "text/plain": [
              "<IPython.core.display.HTML object>"
            ],
            "text/html": [
              "\n",
              "<style>\n",
              "    /* Turns off some styling */\n",
              "    progress {\n",
              "        /* gets rid of default border in Firefox and Opera. */\n",
              "        border: none;\n",
              "        /* Needs to be in here for Safari polyfill so background images work as expected. */\n",
              "        background-size: auto;\n",
              "    }\n",
              "    progress:not([value]), progress:not([value])::-webkit-progress-bar {\n",
              "        background: repeating-linear-gradient(45deg, #7e7e7e, #7e7e7e 10px, #5c5c5c 10px, #5c5c5c 20px);\n",
              "    }\n",
              "    .progress-bar-interrupted, .progress-bar-interrupted::-webkit-progress-bar {\n",
              "        background: #F44336;\n",
              "    }\n",
              "</style>\n"
            ]
          },
          "metadata": {}
        },
        {
          "output_type": "display_data",
          "data": {
            "text/plain": [
              "<IPython.core.display.HTML object>"
            ],
            "text/html": [
              "\n",
              "    <div>\n",
              "      <progress value='3245883392' class='' max='3245877008' style='width:300px; height:20px; vertical-align: middle;'></progress>\n",
              "      100.00% [3245883392/3245877008 01:36&lt;00:00]\n",
              "    </div>\n",
              "    "
            ]
          },
          "metadata": {}
        }
      ]
    },
    {
      "cell_type": "code",
      "execution_count": 2,
      "metadata": {
        "id": "9vXzkA0RIADD"
      },
      "outputs": [],
      "source": [
        "import torch\n",
        "from torch.utils.data import DataLoader, Subset\n",
        "from torchvision import datasets, transforms"
      ]
    },
    {
      "cell_type": "code",
      "source": [
        "from google.colab import drive\n",
        "drive.mount('/content/drive')"
      ],
      "metadata": {
        "colab": {
          "base_uri": "https://localhost:8080/"
        },
        "id": "IVpJRgJkXaFb",
        "outputId": "815faf50-5209-4f79-95d2-371a22bc9321"
      },
      "execution_count": 4,
      "outputs": [
        {
          "output_type": "stream",
          "name": "stdout",
          "text": [
            "Mounted at /content/drive\n"
          ]
        }
      ]
    },
    {
      "cell_type": "code",
      "source": [
        "SIZE = 256\n",
        "transform = transforms.Compose([\n",
        "    transforms.Resize((SIZE, SIZE)),\n",
        "    transforms.RandomHorizontalFlip()\n",
        "])\n",
        "\n",
        "transform_resize = transforms.Compose([\n",
        "    transforms.Resize((SIZE, SIZE))\n",
        "])"
      ],
      "metadata": {
        "id": "nEXJPZgsJGcd"
      },
      "execution_count": 5,
      "outputs": []
    },
    {
      "cell_type": "code",
      "source": [
        "import numpy as np\n",
        "from skimage.color import rgb2lab, lab2rgb\n",
        "from PIL import Image\n",
        "\n",
        "class DualImageDataset(torch.utils.data.Dataset):\n",
        "  def __init__(self, transform, dataset=None, paths=None):\n",
        "      self.dataset = dataset\n",
        "      self.paths = paths\n",
        "      self.transform = transform\n",
        "\n",
        "  def __len__(self):\n",
        "      length = 0\n",
        "      if self.dataset:\n",
        "        length = len(self.dataset)\n",
        "      if self.paths:\n",
        "        length = len(self.paths)\n",
        "      return length\n",
        "  def __getitem__(self, idx):\n",
        "      if self.dataset:\n",
        "        image, _ = self.dataset[idx]\n",
        "      if self.paths:\n",
        "        image = Image.open(self.paths[idx])\n",
        "\n",
        "      # Resize image\n",
        "      image = self.transform(image).convert(\"RGB\")\n",
        "\n",
        "      # Convert to numpy array and LAB color space\n",
        "      image = np.array(image)\n",
        "      img_lab = rgb2lab(image).astype(\"float32\") # Converting RGB to L*a*b\n",
        "      img_lab = transforms.ToTensor()(img_lab)\n",
        "      L = img_lab[[0], ...] / 50. - 1. # Between -1 and 1\n",
        "      AB = img_lab[[1, 2], ...] / 110. # Between -1 and 1\n",
        "\n",
        "      return L, AB"
      ],
      "metadata": {
        "id": "jfuZJOXTJWXp"
      },
      "execution_count": 6,
      "outputs": []
    },
    {
      "cell_type": "code",
      "source": [
        "import glob\n",
        "paths = glob.glob(coco_path + \"/*.jpg\")\n",
        "\n",
        "np.random.seed(130)\n",
        "\n",
        "paths_subset = np.random.choice(paths, 10_000, replace=False)\n",
        "rand_idxs = np.random.permutation(10_000) #Random 10,000 images from COCO dataset\n",
        "train_idxs = rand_idxs[:8000]\n",
        "val_idxs = rand_idxs[8000:]\n",
        "train_paths = paths_subset[train_idxs].tolist()\n",
        "val_paths = paths_subset[val_idxs].tolist()\n",
        "\n",
        "train_dataset = DualImageDataset(transform, dataset=None, paths=train_paths)\n",
        "val_dataset = DualImageDataset(transform_resize, dataset=None, paths=val_paths)\n",
        "\n",
        "train_dataloader = DataLoader(train_dataset, batch_size=32, shuffle=True, num_workers=2)\n",
        "val_dataloader = DataLoader(val_dataset, batch_size=32, shuffle=False, num_workers=2)"
      ],
      "metadata": {
        "id": "heqH6Ikzksne"
      },
      "execution_count": 7,
      "outputs": []
    },
    {
      "cell_type": "code",
      "source": [
        "import torch\n",
        "import torch.nn as nn\n",
        "import torch.nn.functional as F\n",
        "\n",
        "class CNNEncoderDecoder(nn.Module):\n",
        "    def __init__(self):\n",
        "        super(CNNEncoderDecoder, self).__init__()\n",
        "\n",
        "        # Encoding layers\n",
        "        self.conv1 = nn.Conv2d(1, 16, kernel_size=3, stride=1, padding=1)  # Assuming 1 channel for input\n",
        "        self.leaky_relu = nn.LeakyReLU(0.01)  # Define LeakyReLU once and reuse\n",
        "        self.conv2 = nn.Conv2d(16, 32, kernel_size=3, stride=1, padding=1)\n",
        "        self.bn1 = nn.BatchNorm2d(32)\n",
        "        self.pool1 = nn.MaxPool2d(kernel_size=2, stride=2)\n",
        "\n",
        "        self.conv3 = nn.Conv2d(32, 64, kernel_size=3, stride=1, padding=1)\n",
        "        self.bn2 = nn.BatchNorm2d(64)\n",
        "        self.pool2 = nn.MaxPool2d(kernel_size=2, stride=2)\n",
        "\n",
        "        self.conv4 = nn.Conv2d(64, 128, kernel_size=3, stride=1, padding=1)\n",
        "        self.bn3 = nn.BatchNorm2d(128)\n",
        "\n",
        "        self.conv5 = nn.Conv2d(128, 256, kernel_size=3, stride=1, padding=1)\n",
        "        self.bn4 = nn.BatchNorm2d(256)\n",
        "\n",
        "        # Decoding layers\n",
        "        self.upsample1 = nn.Upsample(scale_factor=2, mode='nearest')\n",
        "        self.conv6 = nn.Conv2d(256, 128, kernel_size=3, stride=1, padding=1)\n",
        "        self.bn5 = nn.BatchNorm2d(128)\n",
        "\n",
        "        self.upsample2 = nn.Upsample(scale_factor=2, mode='nearest')\n",
        "        self.conv7 = nn.Conv2d(128, 64, kernel_size=3, stride=1, padding=1)\n",
        "\n",
        "        # Final layers after concatenation\n",
        "        self.conv8 = nn.Conv2d(65, 64, kernel_size=3, stride=1, padding=1)  # Concatenates with initial input\n",
        "        self.bn6 = nn.BatchNorm2d(64)\n",
        "\n",
        "        self.conv9 = nn.Conv2d(64, 32, kernel_size=3, stride=1, padding=1)\n",
        "        self.conv10 = nn.Conv2d(32, 2, kernel_size=3, stride=1, padding=1)\n",
        "\n",
        "    def forward(self, x):\n",
        "        # Encoding path\n",
        "        out1 = self.leaky_relu(self.conv1(x))\n",
        "        out2 = self.leaky_relu(self.conv2(out1))\n",
        "        out2 = self.bn1(out2)\n",
        "        out2 = self.pool1(out2)  # Max pooling layer after second conv block\n",
        "\n",
        "        out3 = self.leaky_relu(self.conv3(out2))\n",
        "        out3 = self.bn2(out3)\n",
        "        out3 = self.pool2(out3)  # Max pooling layer after third conv block\n",
        "\n",
        "        out4 = self.leaky_relu(self.conv4(out3))\n",
        "        out4 = self.bn3(out4)\n",
        "\n",
        "        out5 = self.leaky_relu(self.conv5(out4))\n",
        "        out5 = self.bn4(out5)\n",
        "\n",
        "        # Decoding path\n",
        "        up1 = self.upsample1(out5)\n",
        "        out6 = self.leaky_relu(self.conv6(up1))\n",
        "        out6 = self.bn5(out6)\n",
        "\n",
        "        up2 = self.upsample2(out6)\n",
        "        out7 = self.leaky_relu(self.conv7(up2))\n",
        "\n",
        "        # Concatenate with input and apply final layers\n",
        "        concat = torch.cat([out7, x], dim=1)  # Concatenates along the channel dimension\n",
        "        out8 = self.leaky_relu(self.conv8(concat))\n",
        "        out8 = self.bn6(out8)\n",
        "\n",
        "        out9 = self.leaky_relu(self.conv9(out8))\n",
        "        out10 = torch.tanh(self.conv10(out9))\n",
        "\n",
        "        return out10"
      ],
      "metadata": {
        "id": "zFuxlLnXJcKZ"
      },
      "execution_count": 9,
      "outputs": []
    },
    {
      "cell_type": "code",
      "source": [
        "import torch\n",
        "import torch.optim as optim\n",
        "import torch.nn as nn\n",
        "from tqdm import tqdm\n",
        "\n",
        "def train_model(model, train_dataloader, num_epochs, learning_rate=0.001):\n",
        "    # Define loss function and optimizer\n",
        "    criterion = nn.L1Loss()  # L1 Error Loss\n",
        "    optimizer = optim.Adam(model.parameters(), lr=learning_rate)\n",
        "\n",
        "    # Check if a GPU is available and if so, move the model to GPU\n",
        "    device = torch.device(\"cuda\" if torch.cuda.is_available() else \"cpu\")\n",
        "    model.to(device)\n",
        "\n",
        "    # Training loop\n",
        "    for epoch in range(num_epochs):\n",
        "        model.train()  # Set model to training mode\n",
        "        running_loss = 0.0\n",
        "\n",
        "        for i, (grayscale_image, original_image) in enumerate(tqdm(train_dataloader)):\n",
        "            # Move images to the same device as the model\n",
        "            original_image, grayscale_image = original_image.to(device), grayscale_image.to(device)\n",
        "\n",
        "            # Zero the parameter gradients\n",
        "            optimizer.zero_grad()\n",
        "\n",
        "            # Forward pass\n",
        "            outputs = model(grayscale_image)\n",
        "            # outputs = torch.cat([outputs, grayscale_image], dim=1)\n",
        "            loss = criterion(outputs, original_image)\n",
        "\n",
        "            # Backward pass and optimization\n",
        "            loss.backward()\n",
        "            optimizer.step()\n",
        "\n",
        "            # Accumulate loss\n",
        "            running_loss += loss.item()\n",
        "\n",
        "            # print(f\"Epoch [{epoch + 1}/{num_epochs}], Batch [{i + 1}/{len(train_dataloader)}], Loss: {loss.item():.4f}\")\n",
        "\n",
        "        # Print epoch loss\n",
        "        avg_loss = running_loss / len(train_dataloader)\n",
        "        print(f\"Epoch [{epoch + 1}/{num_epochs}], Average Loss: {avg_loss:.4f}\")\n",
        "\n",
        "    print(\"Training complete.\")"
      ],
      "metadata": {
        "id": "3XTcRscRJna0"
      },
      "execution_count": 10,
      "outputs": []
    },
    {
      "cell_type": "code",
      "source": [
        "CNNmodel = CNNEncoderDecoder()\n",
        "train_model(CNNmodel, train_dataloader, num_epochs=100, learning_rate=0.001)"
      ],
      "metadata": {
        "id": "TxtVOKakM-uY",
        "colab": {
          "base_uri": "https://localhost:8080/"
        },
        "outputId": "1f606e30-fad8-4506-b597-4db118298fce"
      },
      "execution_count": 11,
      "outputs": [
        {
          "metadata": {
            "tags": null
          },
          "name": "stderr",
          "output_type": "stream",
          "text": [
            "100%|██████████| 250/250 [00:58<00:00,  4.24it/s]\n"
          ]
        },
        {
          "metadata": {
            "tags": null
          },
          "name": "stdout",
          "output_type": "stream",
          "text": [
            "Epoch [1/100], Average Loss: 0.0853\n"
          ]
        },
        {
          "metadata": {
            "tags": null
          },
          "name": "stderr",
          "output_type": "stream",
          "text": [
            "100%|██████████| 250/250 [00:57<00:00,  4.32it/s]\n"
          ]
        },
        {
          "metadata": {
            "tags": null
          },
          "name": "stdout",
          "output_type": "stream",
          "text": [
            "Epoch [2/100], Average Loss: 0.0826\n"
          ]
        },
        {
          "metadata": {
            "tags": null
          },
          "name": "stderr",
          "output_type": "stream",
          "text": [
            "100%|██████████| 250/250 [00:57<00:00,  4.35it/s]\n"
          ]
        },
        {
          "metadata": {
            "tags": null
          },
          "name": "stdout",
          "output_type": "stream",
          "text": [
            "Epoch [3/100], Average Loss: 0.0824\n"
          ]
        },
        {
          "metadata": {
            "tags": null
          },
          "name": "stderr",
          "output_type": "stream",
          "text": [
            "100%|██████████| 250/250 [00:57<00:00,  4.35it/s]\n"
          ]
        },
        {
          "metadata": {
            "tags": null
          },
          "name": "stdout",
          "output_type": "stream",
          "text": [
            "Epoch [4/100], Average Loss: 0.0823\n"
          ]
        },
        {
          "metadata": {
            "tags": null
          },
          "name": "stderr",
          "output_type": "stream",
          "text": [
            "100%|██████████| 250/250 [00:58<00:00,  4.30it/s]\n"
          ]
        },
        {
          "metadata": {
            "tags": null
          },
          "name": "stdout",
          "output_type": "stream",
          "text": [
            "Epoch [5/100], Average Loss: 0.0821\n"
          ]
        },
        {
          "metadata": {
            "tags": null
          },
          "name": "stderr",
          "output_type": "stream",
          "text": [
            "100%|██████████| 250/250 [00:58<00:00,  4.31it/s]\n"
          ]
        },
        {
          "metadata": {
            "tags": null
          },
          "name": "stdout",
          "output_type": "stream",
          "text": [
            "Epoch [6/100], Average Loss: 0.0820\n"
          ]
        },
        {
          "metadata": {
            "tags": null
          },
          "name": "stderr",
          "output_type": "stream",
          "text": [
            "100%|██████████| 250/250 [00:57<00:00,  4.32it/s]\n"
          ]
        },
        {
          "metadata": {
            "tags": null
          },
          "name": "stdout",
          "output_type": "stream",
          "text": [
            "Epoch [7/100], Average Loss: 0.0819\n"
          ]
        },
        {
          "metadata": {
            "tags": null
          },
          "name": "stderr",
          "output_type": "stream",
          "text": [
            "100%|██████████| 250/250 [00:57<00:00,  4.35it/s]\n"
          ]
        },
        {
          "metadata": {
            "tags": null
          },
          "name": "stdout",
          "output_type": "stream",
          "text": [
            "Epoch [8/100], Average Loss: 0.0818\n"
          ]
        },
        {
          "metadata": {
            "tags": null
          },
          "name": "stderr",
          "output_type": "stream",
          "text": [
            "100%|██████████| 250/250 [00:58<00:00,  4.28it/s]\n"
          ]
        },
        {
          "metadata": {
            "tags": null
          },
          "name": "stdout",
          "output_type": "stream",
          "text": [
            "Epoch [9/100], Average Loss: 0.0816\n"
          ]
        },
        {
          "metadata": {
            "tags": null
          },
          "name": "stderr",
          "output_type": "stream",
          "text": [
            "100%|██████████| 250/250 [00:57<00:00,  4.31it/s]\n"
          ]
        },
        {
          "metadata": {
            "tags": null
          },
          "name": "stdout",
          "output_type": "stream",
          "text": [
            "Epoch [10/100], Average Loss: 0.0817\n"
          ]
        },
        {
          "metadata": {
            "tags": null
          },
          "name": "stderr",
          "output_type": "stream",
          "text": [
            "100%|██████████| 250/250 [00:58<00:00,  4.26it/s]\n"
          ]
        },
        {
          "metadata": {
            "tags": null
          },
          "name": "stdout",
          "output_type": "stream",
          "text": [
            "Epoch [11/100], Average Loss: 0.0815\n"
          ]
        },
        {
          "metadata": {
            "tags": null
          },
          "name": "stderr",
          "output_type": "stream",
          "text": [
            "100%|██████████| 250/250 [00:57<00:00,  4.32it/s]\n"
          ]
        },
        {
          "metadata": {
            "tags": null
          },
          "name": "stdout",
          "output_type": "stream",
          "text": [
            "Epoch [12/100], Average Loss: 0.0814\n"
          ]
        },
        {
          "metadata": {
            "tags": null
          },
          "name": "stderr",
          "output_type": "stream",
          "text": [
            "100%|██████████| 250/250 [00:57<00:00,  4.35it/s]\n"
          ]
        },
        {
          "metadata": {
            "tags": null
          },
          "name": "stdout",
          "output_type": "stream",
          "text": [
            "Epoch [13/100], Average Loss: 0.0813\n"
          ]
        },
        {
          "metadata": {
            "tags": null
          },
          "name": "stderr",
          "output_type": "stream",
          "text": [
            "100%|██████████| 250/250 [00:57<00:00,  4.32it/s]\n"
          ]
        },
        {
          "metadata": {
            "tags": null
          },
          "name": "stdout",
          "output_type": "stream",
          "text": [
            "Epoch [14/100], Average Loss: 0.0813\n"
          ]
        },
        {
          "metadata": {
            "tags": null
          },
          "name": "stderr",
          "output_type": "stream",
          "text": [
            "100%|██████████| 250/250 [00:57<00:00,  4.33it/s]\n"
          ]
        },
        {
          "metadata": {
            "tags": null
          },
          "name": "stdout",
          "output_type": "stream",
          "text": [
            "Epoch [15/100], Average Loss: 0.0812\n"
          ]
        },
        {
          "metadata": {
            "tags": null
          },
          "name": "stderr",
          "output_type": "stream",
          "text": [
            "100%|██████████| 250/250 [00:58<00:00,  4.24it/s]\n"
          ]
        },
        {
          "metadata": {
            "tags": null
          },
          "name": "stdout",
          "output_type": "stream",
          "text": [
            "Epoch [16/100], Average Loss: 0.0812\n"
          ]
        },
        {
          "metadata": {
            "tags": null
          },
          "name": "stderr",
          "output_type": "stream",
          "text": [
            "100%|██████████| 250/250 [00:57<00:00,  4.33it/s]\n"
          ]
        },
        {
          "metadata": {
            "tags": null
          },
          "name": "stdout",
          "output_type": "stream",
          "text": [
            "Epoch [17/100], Average Loss: 0.0811\n"
          ]
        },
        {
          "metadata": {
            "tags": null
          },
          "name": "stderr",
          "output_type": "stream",
          "text": [
            "100%|██████████| 250/250 [00:58<00:00,  4.26it/s]\n"
          ]
        },
        {
          "metadata": {
            "tags": null
          },
          "name": "stdout",
          "output_type": "stream",
          "text": [
            "Epoch [18/100], Average Loss: 0.0811\n"
          ]
        },
        {
          "metadata": {
            "tags": null
          },
          "name": "stderr",
          "output_type": "stream",
          "text": [
            "100%|██████████| 250/250 [00:59<00:00,  4.21it/s]\n"
          ]
        },
        {
          "metadata": {
            "tags": null
          },
          "name": "stdout",
          "output_type": "stream",
          "text": [
            "Epoch [19/100], Average Loss: 0.0810\n"
          ]
        },
        {
          "metadata": {
            "tags": null
          },
          "name": "stderr",
          "output_type": "stream",
          "text": [
            "100%|██████████| 250/250 [01:01<00:00,  4.09it/s]\n"
          ]
        },
        {
          "metadata": {
            "tags": null
          },
          "name": "stdout",
          "output_type": "stream",
          "text": [
            "Epoch [20/100], Average Loss: 0.0809\n"
          ]
        },
        {
          "metadata": {
            "tags": null
          },
          "name": "stderr",
          "output_type": "stream",
          "text": [
            "100%|██████████| 250/250 [00:58<00:00,  4.29it/s]\n"
          ]
        },
        {
          "metadata": {
            "tags": null
          },
          "name": "stdout",
          "output_type": "stream",
          "text": [
            "Epoch [21/100], Average Loss: 0.0807\n"
          ]
        },
        {
          "metadata": {
            "tags": null
          },
          "name": "stderr",
          "output_type": "stream",
          "text": [
            "100%|██████████| 250/250 [00:58<00:00,  4.29it/s]\n"
          ]
        },
        {
          "metadata": {
            "tags": null
          },
          "name": "stdout",
          "output_type": "stream",
          "text": [
            "Epoch [22/100], Average Loss: 0.0807\n"
          ]
        },
        {
          "metadata": {
            "tags": null
          },
          "name": "stderr",
          "output_type": "stream",
          "text": [
            "100%|██████████| 250/250 [00:58<00:00,  4.29it/s]\n"
          ]
        },
        {
          "metadata": {
            "tags": null
          },
          "name": "stdout",
          "output_type": "stream",
          "text": [
            "Epoch [23/100], Average Loss: 0.0807\n"
          ]
        },
        {
          "metadata": {
            "tags": null
          },
          "name": "stderr",
          "output_type": "stream",
          "text": [
            "100%|██████████| 250/250 [00:58<00:00,  4.29it/s]\n"
          ]
        },
        {
          "metadata": {
            "tags": null
          },
          "name": "stdout",
          "output_type": "stream",
          "text": [
            "Epoch [24/100], Average Loss: 0.0805\n"
          ]
        },
        {
          "metadata": {
            "tags": null
          },
          "name": "stderr",
          "output_type": "stream",
          "text": [
            "100%|██████████| 250/250 [00:58<00:00,  4.29it/s]\n"
          ]
        },
        {
          "metadata": {
            "tags": null
          },
          "name": "stdout",
          "output_type": "stream",
          "text": [
            "Epoch [25/100], Average Loss: 0.0807\n"
          ]
        },
        {
          "metadata": {
            "tags": null
          },
          "name": "stderr",
          "output_type": "stream",
          "text": [
            "100%|██████████| 250/250 [00:57<00:00,  4.32it/s]\n"
          ]
        },
        {
          "metadata": {
            "tags": null
          },
          "name": "stdout",
          "output_type": "stream",
          "text": [
            "Epoch [26/100], Average Loss: 0.0805\n"
          ]
        },
        {
          "metadata": {
            "tags": null
          },
          "name": "stderr",
          "output_type": "stream",
          "text": [
            "100%|██████████| 250/250 [00:58<00:00,  4.27it/s]\n"
          ]
        },
        {
          "metadata": {
            "tags": null
          },
          "name": "stdout",
          "output_type": "stream",
          "text": [
            "Epoch [27/100], Average Loss: 0.0804\n"
          ]
        },
        {
          "metadata": {
            "tags": null
          },
          "name": "stderr",
          "output_type": "stream",
          "text": [
            "100%|██████████| 250/250 [00:59<00:00,  4.21it/s]\n"
          ]
        },
        {
          "metadata": {
            "tags": null
          },
          "name": "stdout",
          "output_type": "stream",
          "text": [
            "Epoch [28/100], Average Loss: 0.0804\n"
          ]
        },
        {
          "metadata": {
            "tags": null
          },
          "name": "stderr",
          "output_type": "stream",
          "text": [
            "100%|██████████| 250/250 [00:58<00:00,  4.24it/s]\n"
          ]
        },
        {
          "metadata": {
            "tags": null
          },
          "name": "stdout",
          "output_type": "stream",
          "text": [
            "Epoch [29/100], Average Loss: 0.0802\n"
          ]
        },
        {
          "metadata": {
            "tags": null
          },
          "name": "stderr",
          "output_type": "stream",
          "text": [
            "100%|██████████| 250/250 [00:57<00:00,  4.31it/s]\n"
          ]
        },
        {
          "metadata": {
            "tags": null
          },
          "name": "stdout",
          "output_type": "stream",
          "text": [
            "Epoch [30/100], Average Loss: 0.0803\n"
          ]
        },
        {
          "metadata": {
            "tags": null
          },
          "name": "stderr",
          "output_type": "stream",
          "text": [
            "100%|██████████| 250/250 [00:58<00:00,  4.30it/s]\n"
          ]
        },
        {
          "metadata": {
            "tags": null
          },
          "name": "stdout",
          "output_type": "stream",
          "text": [
            "Epoch [31/100], Average Loss: 0.0801\n"
          ]
        },
        {
          "metadata": {
            "tags": null
          },
          "name": "stderr",
          "output_type": "stream",
          "text": [
            "100%|██████████| 250/250 [00:57<00:00,  4.32it/s]\n"
          ]
        },
        {
          "metadata": {
            "tags": null
          },
          "name": "stdout",
          "output_type": "stream",
          "text": [
            "Epoch [32/100], Average Loss: 0.0800\n"
          ]
        },
        {
          "metadata": {
            "tags": null
          },
          "name": "stderr",
          "output_type": "stream",
          "text": [
            "100%|██████████| 250/250 [00:58<00:00,  4.29it/s]\n"
          ]
        },
        {
          "metadata": {
            "tags": null
          },
          "name": "stdout",
          "output_type": "stream",
          "text": [
            "Epoch [33/100], Average Loss: 0.0810\n"
          ]
        },
        {
          "metadata": {
            "tags": null
          },
          "name": "stderr",
          "output_type": "stream",
          "text": [
            "100%|██████████| 250/250 [00:58<00:00,  4.27it/s]\n"
          ]
        },
        {
          "metadata": {
            "tags": null
          },
          "name": "stdout",
          "output_type": "stream",
          "text": [
            "Epoch [34/100], Average Loss: 0.0803\n"
          ]
        },
        {
          "metadata": {
            "tags": null
          },
          "name": "stderr",
          "output_type": "stream",
          "text": [
            "100%|██████████| 250/250 [00:58<00:00,  4.28it/s]\n"
          ]
        },
        {
          "metadata": {
            "tags": null
          },
          "name": "stdout",
          "output_type": "stream",
          "text": [
            "Epoch [35/100], Average Loss: 0.0800\n"
          ]
        },
        {
          "metadata": {
            "tags": null
          },
          "name": "stderr",
          "output_type": "stream",
          "text": [
            "100%|██████████| 250/250 [00:59<00:00,  4.22it/s]\n"
          ]
        },
        {
          "metadata": {
            "tags": null
          },
          "name": "stdout",
          "output_type": "stream",
          "text": [
            "Epoch [36/100], Average Loss: 0.0799\n"
          ]
        },
        {
          "metadata": {
            "tags": null
          },
          "name": "stderr",
          "output_type": "stream",
          "text": [
            "100%|██████████| 250/250 [00:59<00:00,  4.20it/s]\n"
          ]
        },
        {
          "metadata": {
            "tags": null
          },
          "name": "stdout",
          "output_type": "stream",
          "text": [
            "Epoch [37/100], Average Loss: 0.0799\n"
          ]
        },
        {
          "metadata": {
            "tags": null
          },
          "name": "stderr",
          "output_type": "stream",
          "text": [
            "100%|██████████| 250/250 [00:58<00:00,  4.31it/s]\n"
          ]
        },
        {
          "metadata": {
            "tags": null
          },
          "name": "stdout",
          "output_type": "stream",
          "text": [
            "Epoch [38/100], Average Loss: 0.0798\n"
          ]
        },
        {
          "metadata": {
            "tags": null
          },
          "name": "stderr",
          "output_type": "stream",
          "text": [
            "100%|██████████| 250/250 [00:58<00:00,  4.30it/s]\n"
          ]
        },
        {
          "metadata": {
            "tags": null
          },
          "name": "stdout",
          "output_type": "stream",
          "text": [
            "Epoch [39/100], Average Loss: 0.0798\n"
          ]
        },
        {
          "metadata": {
            "tags": null
          },
          "name": "stderr",
          "output_type": "stream",
          "text": [
            "100%|██████████| 250/250 [00:58<00:00,  4.28it/s]\n"
          ]
        },
        {
          "metadata": {
            "tags": null
          },
          "name": "stdout",
          "output_type": "stream",
          "text": [
            "Epoch [40/100], Average Loss: 0.0797\n"
          ]
        },
        {
          "metadata": {
            "tags": null
          },
          "name": "stderr",
          "output_type": "stream",
          "text": [
            "100%|██████████| 250/250 [00:58<00:00,  4.27it/s]\n"
          ]
        },
        {
          "metadata": {
            "tags": null
          },
          "name": "stdout",
          "output_type": "stream",
          "text": [
            "Epoch [41/100], Average Loss: 0.0796\n"
          ]
        },
        {
          "metadata": {
            "tags": null
          },
          "name": "stderr",
          "output_type": "stream",
          "text": [
            "100%|██████████| 250/250 [00:58<00:00,  4.28it/s]\n"
          ]
        },
        {
          "metadata": {
            "tags": null
          },
          "name": "stdout",
          "output_type": "stream",
          "text": [
            "Epoch [42/100], Average Loss: 0.0795\n"
          ]
        },
        {
          "metadata": {
            "tags": null
          },
          "name": "stderr",
          "output_type": "stream",
          "text": [
            "100%|██████████| 250/250 [00:58<00:00,  4.27it/s]\n"
          ]
        },
        {
          "metadata": {
            "tags": null
          },
          "name": "stdout",
          "output_type": "stream",
          "text": [
            "Epoch [43/100], Average Loss: 0.0795\n"
          ]
        },
        {
          "metadata": {
            "tags": null
          },
          "name": "stderr",
          "output_type": "stream",
          "text": [
            "100%|██████████| 250/250 [00:57<00:00,  4.33it/s]\n"
          ]
        },
        {
          "metadata": {
            "tags": null
          },
          "name": "stdout",
          "output_type": "stream",
          "text": [
            "Epoch [44/100], Average Loss: 0.0794\n"
          ]
        },
        {
          "metadata": {
            "tags": null
          },
          "name": "stderr",
          "output_type": "stream",
          "text": [
            "100%|██████████| 250/250 [00:59<00:00,  4.22it/s]\n"
          ]
        },
        {
          "metadata": {
            "tags": null
          },
          "name": "stdout",
          "output_type": "stream",
          "text": [
            "Epoch [45/100], Average Loss: 0.0794\n"
          ]
        },
        {
          "metadata": {
            "tags": null
          },
          "name": "stderr",
          "output_type": "stream",
          "text": [
            "100%|██████████| 250/250 [01:01<00:00,  4.07it/s]\n"
          ]
        },
        {
          "metadata": {
            "tags": null
          },
          "name": "stdout",
          "output_type": "stream",
          "text": [
            "Epoch [46/100], Average Loss: 0.0793\n"
          ]
        },
        {
          "metadata": {
            "tags": null
          },
          "name": "stderr",
          "output_type": "stream",
          "text": [
            "100%|██████████| 250/250 [01:01<00:00,  4.09it/s]\n"
          ]
        },
        {
          "metadata": {
            "tags": null
          },
          "name": "stdout",
          "output_type": "stream",
          "text": [
            "Epoch [47/100], Average Loss: 0.0793\n"
          ]
        },
        {
          "metadata": {
            "tags": null
          },
          "name": "stderr",
          "output_type": "stream",
          "text": [
            "100%|██████████| 250/250 [01:01<00:00,  4.08it/s]\n"
          ]
        },
        {
          "metadata": {
            "tags": null
          },
          "name": "stdout",
          "output_type": "stream",
          "text": [
            "Epoch [48/100], Average Loss: 0.0793\n"
          ]
        },
        {
          "metadata": {
            "tags": null
          },
          "name": "stderr",
          "output_type": "stream",
          "text": [
            "100%|██████████| 250/250 [01:00<00:00,  4.10it/s]\n"
          ]
        },
        {
          "metadata": {
            "tags": null
          },
          "name": "stdout",
          "output_type": "stream",
          "text": [
            "Epoch [49/100], Average Loss: 0.0791\n"
          ]
        },
        {
          "metadata": {
            "tags": null
          },
          "name": "stderr",
          "output_type": "stream",
          "text": [
            "100%|██████████| 250/250 [01:00<00:00,  4.10it/s]\n"
          ]
        },
        {
          "metadata": {
            "tags": null
          },
          "name": "stdout",
          "output_type": "stream",
          "text": [
            "Epoch [50/100], Average Loss: 0.0792\n"
          ]
        },
        {
          "metadata": {
            "tags": null
          },
          "name": "stderr",
          "output_type": "stream",
          "text": [
            "100%|██████████| 250/250 [01:00<00:00,  4.15it/s]\n"
          ]
        },
        {
          "metadata": {
            "tags": null
          },
          "name": "stdout",
          "output_type": "stream",
          "text": [
            "Epoch [51/100], Average Loss: 0.0790\n"
          ]
        },
        {
          "metadata": {
            "tags": null
          },
          "name": "stderr",
          "output_type": "stream",
          "text": [
            "100%|██████████| 250/250 [00:59<00:00,  4.17it/s]\n"
          ]
        },
        {
          "metadata": {
            "tags": null
          },
          "name": "stdout",
          "output_type": "stream",
          "text": [
            "Epoch [52/100], Average Loss: 0.0791\n"
          ]
        },
        {
          "metadata": {
            "tags": null
          },
          "name": "stderr",
          "output_type": "stream",
          "text": [
            "100%|██████████| 250/250 [01:00<00:00,  4.13it/s]\n"
          ]
        },
        {
          "metadata": {
            "tags": null
          },
          "name": "stdout",
          "output_type": "stream",
          "text": [
            "Epoch [53/100], Average Loss: 0.0790\n"
          ]
        },
        {
          "metadata": {
            "tags": null
          },
          "name": "stderr",
          "output_type": "stream",
          "text": [
            "100%|██████████| 250/250 [01:00<00:00,  4.16it/s]\n"
          ]
        },
        {
          "metadata": {
            "tags": null
          },
          "name": "stdout",
          "output_type": "stream",
          "text": [
            "Epoch [54/100], Average Loss: 0.0789\n"
          ]
        },
        {
          "metadata": {
            "tags": null
          },
          "name": "stderr",
          "output_type": "stream",
          "text": [
            "100%|██████████| 250/250 [01:00<00:00,  4.16it/s]\n"
          ]
        },
        {
          "metadata": {
            "tags": null
          },
          "name": "stdout",
          "output_type": "stream",
          "text": [
            "Epoch [55/100], Average Loss: 0.0789\n"
          ]
        },
        {
          "metadata": {
            "tags": null
          },
          "name": "stderr",
          "output_type": "stream",
          "text": [
            "100%|██████████| 250/250 [01:00<00:00,  4.15it/s]\n"
          ]
        },
        {
          "metadata": {
            "tags": null
          },
          "name": "stdout",
          "output_type": "stream",
          "text": [
            "Epoch [56/100], Average Loss: 0.0788\n"
          ]
        },
        {
          "metadata": {
            "tags": null
          },
          "name": "stderr",
          "output_type": "stream",
          "text": [
            "100%|██████████| 250/250 [00:59<00:00,  4.18it/s]\n"
          ]
        },
        {
          "metadata": {
            "tags": null
          },
          "name": "stdout",
          "output_type": "stream",
          "text": [
            "Epoch [57/100], Average Loss: 0.0787\n"
          ]
        },
        {
          "metadata": {
            "tags": null
          },
          "name": "stderr",
          "output_type": "stream",
          "text": [
            "100%|██████████| 250/250 [01:00<00:00,  4.16it/s]\n"
          ]
        },
        {
          "metadata": {
            "tags": null
          },
          "name": "stdout",
          "output_type": "stream",
          "text": [
            "Epoch [58/100], Average Loss: 0.0786\n"
          ]
        },
        {
          "metadata": {
            "tags": null
          },
          "name": "stderr",
          "output_type": "stream",
          "text": [
            "100%|██████████| 250/250 [01:00<00:00,  4.15it/s]\n"
          ]
        },
        {
          "metadata": {
            "tags": null
          },
          "name": "stdout",
          "output_type": "stream",
          "text": [
            "Epoch [59/100], Average Loss: 0.0787\n"
          ]
        },
        {
          "metadata": {
            "tags": null
          },
          "name": "stderr",
          "output_type": "stream",
          "text": [
            "100%|██████████| 250/250 [01:00<00:00,  4.13it/s]\n"
          ]
        },
        {
          "metadata": {
            "tags": null
          },
          "name": "stdout",
          "output_type": "stream",
          "text": [
            "Epoch [60/100], Average Loss: 0.0786\n"
          ]
        },
        {
          "metadata": {
            "tags": null
          },
          "name": "stderr",
          "output_type": "stream",
          "text": [
            "100%|██████████| 250/250 [01:00<00:00,  4.16it/s]\n"
          ]
        },
        {
          "metadata": {
            "tags": null
          },
          "name": "stdout",
          "output_type": "stream",
          "text": [
            "Epoch [61/100], Average Loss: 0.0785\n"
          ]
        },
        {
          "metadata": {
            "tags": null
          },
          "name": "stderr",
          "output_type": "stream",
          "text": [
            "100%|██████████| 250/250 [01:00<00:00,  4.13it/s]\n"
          ]
        },
        {
          "metadata": {
            "tags": null
          },
          "name": "stdout",
          "output_type": "stream",
          "text": [
            "Epoch [62/100], Average Loss: 0.0785\n"
          ]
        },
        {
          "metadata": {
            "tags": null
          },
          "name": "stderr",
          "output_type": "stream",
          "text": [
            "100%|██████████| 250/250 [01:00<00:00,  4.11it/s]\n"
          ]
        },
        {
          "metadata": {
            "tags": null
          },
          "name": "stdout",
          "output_type": "stream",
          "text": [
            "Epoch [63/100], Average Loss: 0.0784\n"
          ]
        },
        {
          "metadata": {
            "tags": null
          },
          "name": "stderr",
          "output_type": "stream",
          "text": [
            "100%|██████████| 250/250 [01:00<00:00,  4.11it/s]\n"
          ]
        },
        {
          "metadata": {
            "tags": null
          },
          "name": "stdout",
          "output_type": "stream",
          "text": [
            "Epoch [64/100], Average Loss: 0.0784\n"
          ]
        },
        {
          "metadata": {
            "tags": null
          },
          "name": "stderr",
          "output_type": "stream",
          "text": [
            "100%|██████████| 250/250 [01:00<00:00,  4.16it/s]\n"
          ]
        },
        {
          "metadata": {
            "tags": null
          },
          "name": "stdout",
          "output_type": "stream",
          "text": [
            "Epoch [65/100], Average Loss: 0.0783\n"
          ]
        },
        {
          "metadata": {
            "tags": null
          },
          "name": "stderr",
          "output_type": "stream",
          "text": [
            "100%|██████████| 250/250 [01:00<00:00,  4.14it/s]\n"
          ]
        },
        {
          "metadata": {
            "tags": null
          },
          "name": "stdout",
          "output_type": "stream",
          "text": [
            "Epoch [66/100], Average Loss: 0.0783\n"
          ]
        },
        {
          "metadata": {
            "tags": null
          },
          "name": "stderr",
          "output_type": "stream",
          "text": [
            "100%|██████████| 250/250 [01:00<00:00,  4.11it/s]\n"
          ]
        },
        {
          "metadata": {
            "tags": null
          },
          "name": "stdout",
          "output_type": "stream",
          "text": [
            "Epoch [67/100], Average Loss: 0.0783\n"
          ]
        },
        {
          "metadata": {
            "tags": null
          },
          "name": "stderr",
          "output_type": "stream",
          "text": [
            "100%|██████████| 250/250 [01:00<00:00,  4.17it/s]\n"
          ]
        },
        {
          "metadata": {
            "tags": null
          },
          "name": "stdout",
          "output_type": "stream",
          "text": [
            "Epoch [68/100], Average Loss: 0.0781\n"
          ]
        },
        {
          "metadata": {
            "tags": null
          },
          "name": "stderr",
          "output_type": "stream",
          "text": [
            "100%|██████████| 250/250 [01:00<00:00,  4.11it/s]\n"
          ]
        },
        {
          "metadata": {
            "tags": null
          },
          "name": "stdout",
          "output_type": "stream",
          "text": [
            "Epoch [69/100], Average Loss: 0.0782\n"
          ]
        },
        {
          "metadata": {
            "tags": null
          },
          "name": "stderr",
          "output_type": "stream",
          "text": [
            "100%|██████████| 250/250 [01:01<00:00,  4.09it/s]\n"
          ]
        },
        {
          "metadata": {
            "tags": null
          },
          "name": "stdout",
          "output_type": "stream",
          "text": [
            "Epoch [70/100], Average Loss: 0.0781\n"
          ]
        },
        {
          "metadata": {
            "tags": null
          },
          "name": "stderr",
          "output_type": "stream",
          "text": [
            "100%|██████████| 250/250 [01:00<00:00,  4.14it/s]\n"
          ]
        },
        {
          "metadata": {
            "tags": null
          },
          "name": "stdout",
          "output_type": "stream",
          "text": [
            "Epoch [71/100], Average Loss: 0.0781\n"
          ]
        },
        {
          "metadata": {
            "tags": null
          },
          "name": "stderr",
          "output_type": "stream",
          "text": [
            "100%|██████████| 250/250 [01:01<00:00,  4.08it/s]\n"
          ]
        },
        {
          "metadata": {
            "tags": null
          },
          "name": "stdout",
          "output_type": "stream",
          "text": [
            "Epoch [72/100], Average Loss: 0.0781\n"
          ]
        },
        {
          "metadata": {
            "tags": null
          },
          "name": "stderr",
          "output_type": "stream",
          "text": [
            "100%|██████████| 250/250 [01:00<00:00,  4.12it/s]\n"
          ]
        },
        {
          "metadata": {
            "tags": null
          },
          "name": "stdout",
          "output_type": "stream",
          "text": [
            "Epoch [73/100], Average Loss: 0.0779\n"
          ]
        },
        {
          "metadata": {
            "tags": null
          },
          "name": "stderr",
          "output_type": "stream",
          "text": [
            "100%|██████████| 250/250 [01:00<00:00,  4.12it/s]\n"
          ]
        },
        {
          "metadata": {
            "tags": null
          },
          "name": "stdout",
          "output_type": "stream",
          "text": [
            "Epoch [74/100], Average Loss: 0.0779\n"
          ]
        },
        {
          "metadata": {
            "tags": null
          },
          "name": "stderr",
          "output_type": "stream",
          "text": [
            "100%|██████████| 250/250 [01:00<00:00,  4.14it/s]\n"
          ]
        },
        {
          "metadata": {
            "tags": null
          },
          "name": "stdout",
          "output_type": "stream",
          "text": [
            "Epoch [75/100], Average Loss: 0.0779\n"
          ]
        },
        {
          "metadata": {
            "tags": null
          },
          "name": "stderr",
          "output_type": "stream",
          "text": [
            "100%|██████████| 250/250 [01:00<00:00,  4.12it/s]\n"
          ]
        },
        {
          "metadata": {
            "tags": null
          },
          "name": "stdout",
          "output_type": "stream",
          "text": [
            "Epoch [76/100], Average Loss: 0.0779\n"
          ]
        },
        {
          "metadata": {
            "tags": null
          },
          "name": "stderr",
          "output_type": "stream",
          "text": [
            "100%|██████████| 250/250 [01:00<00:00,  4.12it/s]\n"
          ]
        },
        {
          "metadata": {
            "tags": null
          },
          "name": "stdout",
          "output_type": "stream",
          "text": [
            "Epoch [77/100], Average Loss: 0.0778\n"
          ]
        },
        {
          "metadata": {
            "tags": null
          },
          "name": "stderr",
          "output_type": "stream",
          "text": [
            "100%|██████████| 250/250 [01:01<00:00,  4.08it/s]\n"
          ]
        },
        {
          "metadata": {
            "tags": null
          },
          "name": "stdout",
          "output_type": "stream",
          "text": [
            "Epoch [78/100], Average Loss: 0.0778\n"
          ]
        },
        {
          "metadata": {
            "tags": null
          },
          "name": "stderr",
          "output_type": "stream",
          "text": [
            "100%|██████████| 250/250 [00:59<00:00,  4.19it/s]\n"
          ]
        },
        {
          "metadata": {
            "tags": null
          },
          "name": "stdout",
          "output_type": "stream",
          "text": [
            "Epoch [79/100], Average Loss: 0.0777\n"
          ]
        },
        {
          "metadata": {
            "tags": null
          },
          "name": "stderr",
          "output_type": "stream",
          "text": [
            "100%|██████████| 250/250 [01:00<00:00,  4.16it/s]\n"
          ]
        },
        {
          "metadata": {
            "tags": null
          },
          "name": "stdout",
          "output_type": "stream",
          "text": [
            "Epoch [80/100], Average Loss: 0.0777\n"
          ]
        },
        {
          "metadata": {
            "tags": null
          },
          "name": "stderr",
          "output_type": "stream",
          "text": [
            "100%|██████████| 250/250 [00:58<00:00,  4.31it/s]\n"
          ]
        },
        {
          "metadata": {
            "tags": null
          },
          "name": "stdout",
          "output_type": "stream",
          "text": [
            "Epoch [81/100], Average Loss: 0.0776\n"
          ]
        },
        {
          "metadata": {
            "tags": null
          },
          "name": "stderr",
          "output_type": "stream",
          "text": [
            "100%|██████████| 250/250 [00:58<00:00,  4.28it/s]\n"
          ]
        },
        {
          "metadata": {
            "tags": null
          },
          "name": "stdout",
          "output_type": "stream",
          "text": [
            "Epoch [82/100], Average Loss: 0.0776\n"
          ]
        },
        {
          "metadata": {
            "tags": null
          },
          "name": "stderr",
          "output_type": "stream",
          "text": [
            "100%|██████████| 250/250 [00:58<00:00,  4.31it/s]\n"
          ]
        },
        {
          "metadata": {
            "tags": null
          },
          "name": "stdout",
          "output_type": "stream",
          "text": [
            "Epoch [83/100], Average Loss: 0.0776\n"
          ]
        },
        {
          "metadata": {
            "tags": null
          },
          "name": "stderr",
          "output_type": "stream",
          "text": [
            "100%|██████████| 250/250 [00:58<00:00,  4.30it/s]\n"
          ]
        },
        {
          "metadata": {
            "tags": null
          },
          "name": "stdout",
          "output_type": "stream",
          "text": [
            "Epoch [84/100], Average Loss: 0.0775\n"
          ]
        },
        {
          "metadata": {
            "tags": null
          },
          "name": "stderr",
          "output_type": "stream",
          "text": [
            "100%|██████████| 250/250 [00:58<00:00,  4.30it/s]\n"
          ]
        },
        {
          "metadata": {
            "tags": null
          },
          "name": "stdout",
          "output_type": "stream",
          "text": [
            "Epoch [85/100], Average Loss: 0.0774\n"
          ]
        },
        {
          "metadata": {
            "tags": null
          },
          "name": "stderr",
          "output_type": "stream",
          "text": [
            "100%|██████████| 250/250 [00:58<00:00,  4.24it/s]\n"
          ]
        },
        {
          "metadata": {
            "tags": null
          },
          "name": "stdout",
          "output_type": "stream",
          "text": [
            "Epoch [86/100], Average Loss: 0.0774\n"
          ]
        },
        {
          "metadata": {
            "tags": null
          },
          "name": "stderr",
          "output_type": "stream",
          "text": [
            "100%|██████████| 250/250 [00:58<00:00,  4.28it/s]\n"
          ]
        },
        {
          "metadata": {
            "tags": null
          },
          "name": "stdout",
          "output_type": "stream",
          "text": [
            "Epoch [87/100], Average Loss: 0.0774\n"
          ]
        },
        {
          "metadata": {
            "tags": null
          },
          "name": "stderr",
          "output_type": "stream",
          "text": [
            "100%|██████████| 250/250 [00:58<00:00,  4.29it/s]\n"
          ]
        },
        {
          "metadata": {
            "tags": null
          },
          "name": "stdout",
          "output_type": "stream",
          "text": [
            "Epoch [88/100], Average Loss: 0.0773\n"
          ]
        },
        {
          "metadata": {
            "tags": null
          },
          "name": "stderr",
          "output_type": "stream",
          "text": [
            "100%|██████████| 250/250 [00:57<00:00,  4.32it/s]\n"
          ]
        },
        {
          "metadata": {
            "tags": null
          },
          "name": "stdout",
          "output_type": "stream",
          "text": [
            "Epoch [89/100], Average Loss: 0.0772\n"
          ]
        },
        {
          "metadata": {
            "tags": null
          },
          "name": "stderr",
          "output_type": "stream",
          "text": [
            "100%|██████████| 250/250 [00:58<00:00,  4.30it/s]\n"
          ]
        },
        {
          "metadata": {
            "tags": null
          },
          "name": "stdout",
          "output_type": "stream",
          "text": [
            "Epoch [90/100], Average Loss: 0.0773\n"
          ]
        },
        {
          "metadata": {
            "tags": null
          },
          "name": "stderr",
          "output_type": "stream",
          "text": [
            "100%|██████████| 250/250 [01:00<00:00,  4.16it/s]\n"
          ]
        },
        {
          "metadata": {
            "tags": null
          },
          "name": "stdout",
          "output_type": "stream",
          "text": [
            "Epoch [91/100], Average Loss: 0.0773\n"
          ]
        },
        {
          "metadata": {
            "tags": null
          },
          "name": "stderr",
          "output_type": "stream",
          "text": [
            "100%|██████████| 250/250 [01:00<00:00,  4.13it/s]\n"
          ]
        },
        {
          "metadata": {
            "tags": null
          },
          "name": "stdout",
          "output_type": "stream",
          "text": [
            "Epoch [92/100], Average Loss: 0.0772\n"
          ]
        },
        {
          "metadata": {
            "tags": null
          },
          "name": "stderr",
          "output_type": "stream",
          "text": [
            "100%|██████████| 250/250 [00:57<00:00,  4.31it/s]\n"
          ]
        },
        {
          "metadata": {
            "tags": null
          },
          "name": "stdout",
          "output_type": "stream",
          "text": [
            "Epoch [93/100], Average Loss: 0.0772\n"
          ]
        },
        {
          "metadata": {
            "tags": null
          },
          "name": "stderr",
          "output_type": "stream",
          "text": [
            "100%|██████████| 250/250 [00:59<00:00,  4.24it/s]\n"
          ]
        },
        {
          "metadata": {
            "tags": null
          },
          "name": "stdout",
          "output_type": "stream",
          "text": [
            "Epoch [94/100], Average Loss: 0.0771\n"
          ]
        },
        {
          "metadata": {
            "tags": null
          },
          "name": "stderr",
          "output_type": "stream",
          "text": [
            "100%|██████████| 250/250 [01:00<00:00,  4.10it/s]\n"
          ]
        },
        {
          "metadata": {
            "tags": null
          },
          "name": "stdout",
          "output_type": "stream",
          "text": [
            "Epoch [95/100], Average Loss: 0.0771\n"
          ]
        },
        {
          "metadata": {
            "tags": null
          },
          "name": "stderr",
          "output_type": "stream",
          "text": [
            "100%|██████████| 250/250 [01:00<00:00,  4.13it/s]\n"
          ]
        },
        {
          "metadata": {
            "tags": null
          },
          "name": "stdout",
          "output_type": "stream",
          "text": [
            "Epoch [96/100], Average Loss: 0.0770\n"
          ]
        },
        {
          "metadata": {
            "tags": null
          },
          "name": "stderr",
          "output_type": "stream",
          "text": [
            "100%|██████████| 250/250 [00:58<00:00,  4.26it/s]\n"
          ]
        },
        {
          "metadata": {
            "tags": null
          },
          "name": "stdout",
          "output_type": "stream",
          "text": [
            "Epoch [97/100], Average Loss: 0.0771\n"
          ]
        },
        {
          "output_type": "stream",
          "name": "stderr",
          "text": [
            "100%|██████████| 250/250 [00:57<00:00,  4.33it/s]\n"
          ]
        },
        {
          "output_type": "stream",
          "name": "stdout",
          "text": [
            "Epoch [98/100], Average Loss: 0.0770\n"
          ]
        },
        {
          "output_type": "stream",
          "name": "stderr",
          "text": [
            "100%|██████████| 250/250 [00:59<00:00,  4.21it/s]\n"
          ]
        },
        {
          "output_type": "stream",
          "name": "stdout",
          "text": [
            "Epoch [99/100], Average Loss: 0.0771\n"
          ]
        },
        {
          "output_type": "stream",
          "name": "stderr",
          "text": [
            "100%|██████████| 250/250 [01:01<00:00,  4.08it/s]"
          ]
        },
        {
          "output_type": "stream",
          "name": "stdout",
          "text": [
            "Epoch [100/100], Average Loss: 0.0770\n",
            "Training complete.\n"
          ]
        },
        {
          "output_type": "stream",
          "name": "stderr",
          "text": [
            "\n"
          ]
        }
      ]
    },
    {
      "cell_type": "code",
      "source": [
        "torch.save(CNNmodel.state_dict(), \"/content/drive/My Drive/CNN-Encod-Decod.pt\")"
      ],
      "metadata": {
        "id": "JKuHxVk3otU-"
      },
      "execution_count": 12,
      "outputs": []
    },
    {
      "cell_type": "code",
      "source": [
        "def reconstruct_color_image(L, AB):\n",
        "    L = (L + 1.) * 50.\n",
        "    AB = AB * 110.\n",
        "    Lab = torch.cat([L, AB], dim=0).permute(1, 2, 0).cpu().numpy()\n",
        "\n",
        "    img_rgb = lab2rgb(Lab)\n",
        "    return img_rgb"
      ],
      "metadata": {
        "id": "K8BiESmsUK0E"
      },
      "execution_count": 12,
      "outputs": []
    },
    {
      "cell_type": "code",
      "source": [
        "from fastai.vision.learner import create_body\n",
        "from torchvision.models.resnet import resnet18\n",
        "from fastai.vision.models.unet import DynamicUnet\n",
        "\n",
        "\n",
        "device = torch.device(\"cuda\" if torch.cuda.is_available() else \"cpu\")\n",
        "body = create_body(resnet18(), pretrained=True, n_in=1, cut=-2)\n",
        "net_G = DynamicUnet(body, 2, (SIZE, SIZE)).to(device)"
      ],
      "metadata": {
        "id": "B6QOyJ9-Hd0m"
      },
      "execution_count": 13,
      "outputs": []
    },
    {
      "cell_type": "code",
      "source": [
        "class AverageMeter:\n",
        "    def __init__(self):\n",
        "        self.reset()\n",
        "\n",
        "    def reset(self):\n",
        "        self.count, self.avg, self.sum = [0.] * 3\n",
        "\n",
        "    def update(self, val, count=1):\n",
        "        self.count += count\n",
        "        self.sum += count * val\n",
        "        self.avg = self.sum / self.count"
      ],
      "metadata": {
        "id": "9QZ73azbKDYc"
      },
      "execution_count": 14,
      "outputs": []
    },
    {
      "cell_type": "code",
      "source": [
        "from tqdm import tqdm\n",
        "import torch.optim as optim\n",
        "def pretrain_generator(net_G, train_dl, opt, criterion, epochs):\n",
        "    for e in range(epochs):\n",
        "        loss_meter = AverageMeter()\n",
        "        for L, ab in tqdm(train_dl):\n",
        "            L, ab = L.to(device), ab.to(device)\n",
        "            preds = net_G(L)\n",
        "            loss = criterion(preds, ab)\n",
        "            opt.zero_grad()\n",
        "            loss.backward()\n",
        "            opt.step()\n",
        "\n",
        "            loss_meter.update(loss.item(), L.size(0))\n",
        "\n",
        "        print(f\"Epoch {e + 1}/{epochs}\")\n",
        "        print(f\"L1 Loss: {loss_meter.avg:.5f}\")\n",
        "\n",
        "opt = optim.Adam(net_G.parameters(), lr=1e-4)\n",
        "criterion = nn.L1Loss()\n",
        "pretrain_generator(net_G, train_dataloader, opt, criterion, 20)"
      ],
      "metadata": {
        "colab": {
          "base_uri": "https://localhost:8080/"
        },
        "id": "aUm7B36lHkVA",
        "outputId": "5dcde4c7-1bff-4b22-9695-70f8c51e4412"
      },
      "execution_count": null,
      "outputs": [
        {
          "output_type": "stream",
          "name": "stderr",
          "text": [
            "100%|██████████| 250/250 [05:16<00:00,  1.27s/it]\n"
          ]
        },
        {
          "output_type": "stream",
          "name": "stdout",
          "text": [
            "Epoch 1/20\n",
            "L1 Loss: 0.08912\n"
          ]
        },
        {
          "output_type": "stream",
          "name": "stderr",
          "text": [
            "100%|██████████| 250/250 [05:15<00:00,  1.26s/it]\n"
          ]
        },
        {
          "output_type": "stream",
          "name": "stdout",
          "text": [
            "Epoch 2/20\n",
            "L1 Loss: 0.08302\n"
          ]
        },
        {
          "output_type": "stream",
          "name": "stderr",
          "text": [
            "100%|██████████| 250/250 [05:16<00:00,  1.27s/it]\n"
          ]
        },
        {
          "output_type": "stream",
          "name": "stdout",
          "text": [
            "Epoch 3/20\n",
            "L1 Loss: 0.08255\n"
          ]
        },
        {
          "output_type": "stream",
          "name": "stderr",
          "text": [
            "100%|██████████| 250/250 [05:15<00:00,  1.26s/it]\n"
          ]
        },
        {
          "output_type": "stream",
          "name": "stdout",
          "text": [
            "Epoch 4/20\n",
            "L1 Loss: 0.08229\n"
          ]
        },
        {
          "output_type": "stream",
          "name": "stderr",
          "text": [
            "100%|██████████| 250/250 [05:15<00:00,  1.26s/it]\n"
          ]
        },
        {
          "output_type": "stream",
          "name": "stdout",
          "text": [
            "Epoch 5/20\n",
            "L1 Loss: 0.08206\n"
          ]
        },
        {
          "output_type": "stream",
          "name": "stderr",
          "text": [
            "100%|██████████| 250/250 [05:16<00:00,  1.27s/it]\n"
          ]
        },
        {
          "output_type": "stream",
          "name": "stdout",
          "text": [
            "Epoch 6/20\n",
            "L1 Loss: 0.08181\n"
          ]
        },
        {
          "output_type": "stream",
          "name": "stderr",
          "text": [
            "100%|██████████| 250/250 [05:16<00:00,  1.27s/it]\n"
          ]
        },
        {
          "output_type": "stream",
          "name": "stdout",
          "text": [
            "Epoch 7/20\n",
            "L1 Loss: 0.08170\n"
          ]
        },
        {
          "output_type": "stream",
          "name": "stderr",
          "text": [
            "100%|██████████| 250/250 [05:15<00:00,  1.26s/it]\n"
          ]
        },
        {
          "output_type": "stream",
          "name": "stdout",
          "text": [
            "Epoch 8/20\n",
            "L1 Loss: 0.08150\n"
          ]
        },
        {
          "output_type": "stream",
          "name": "stderr",
          "text": [
            "100%|██████████| 250/250 [05:15<00:00,  1.26s/it]\n"
          ]
        },
        {
          "output_type": "stream",
          "name": "stdout",
          "text": [
            "Epoch 9/20\n",
            "L1 Loss: 0.08116\n"
          ]
        },
        {
          "output_type": "stream",
          "name": "stderr",
          "text": [
            "100%|██████████| 250/250 [05:15<00:00,  1.26s/it]\n"
          ]
        },
        {
          "output_type": "stream",
          "name": "stdout",
          "text": [
            "Epoch 10/20\n",
            "L1 Loss: 0.08093\n"
          ]
        },
        {
          "output_type": "stream",
          "name": "stderr",
          "text": [
            "100%|██████████| 250/250 [05:15<00:00,  1.26s/it]\n"
          ]
        },
        {
          "output_type": "stream",
          "name": "stdout",
          "text": [
            "Epoch 11/20\n",
            "L1 Loss: 0.08082\n"
          ]
        },
        {
          "output_type": "stream",
          "name": "stderr",
          "text": [
            "100%|██████████| 250/250 [05:15<00:00,  1.26s/it]\n"
          ]
        },
        {
          "output_type": "stream",
          "name": "stdout",
          "text": [
            "Epoch 12/20\n",
            "L1 Loss: 0.08053\n"
          ]
        },
        {
          "output_type": "stream",
          "name": "stderr",
          "text": [
            "100%|██████████| 250/250 [05:16<00:00,  1.27s/it]\n"
          ]
        },
        {
          "output_type": "stream",
          "name": "stdout",
          "text": [
            "Epoch 13/20\n",
            "L1 Loss: 0.08021\n"
          ]
        },
        {
          "output_type": "stream",
          "name": "stderr",
          "text": [
            "100%|██████████| 250/250 [05:15<00:00,  1.26s/it]\n"
          ]
        },
        {
          "output_type": "stream",
          "name": "stdout",
          "text": [
            "Epoch 14/20\n",
            "L1 Loss: 0.07976\n"
          ]
        },
        {
          "output_type": "stream",
          "name": "stderr",
          "text": [
            "100%|██████████| 250/250 [05:15<00:00,  1.26s/it]\n"
          ]
        },
        {
          "output_type": "stream",
          "name": "stdout",
          "text": [
            "Epoch 15/20\n",
            "L1 Loss: 0.07913\n"
          ]
        },
        {
          "output_type": "stream",
          "name": "stderr",
          "text": [
            "100%|██████████| 250/250 [05:15<00:00,  1.26s/it]\n"
          ]
        },
        {
          "output_type": "stream",
          "name": "stdout",
          "text": [
            "Epoch 16/20\n",
            "L1 Loss: 0.07860\n"
          ]
        },
        {
          "output_type": "stream",
          "name": "stderr",
          "text": [
            "100%|██████████| 250/250 [05:15<00:00,  1.26s/it]\n"
          ]
        },
        {
          "output_type": "stream",
          "name": "stdout",
          "text": [
            "Epoch 17/20\n",
            "L1 Loss: 0.07777\n"
          ]
        },
        {
          "output_type": "stream",
          "name": "stderr",
          "text": [
            "100%|██████████| 250/250 [05:15<00:00,  1.26s/it]\n"
          ]
        },
        {
          "output_type": "stream",
          "name": "stdout",
          "text": [
            "Epoch 18/20\n",
            "L1 Loss: 0.07698\n"
          ]
        },
        {
          "output_type": "stream",
          "name": "stderr",
          "text": [
            "100%|██████████| 250/250 [05:15<00:00,  1.26s/it]\n"
          ]
        },
        {
          "output_type": "stream",
          "name": "stdout",
          "text": [
            "Epoch 19/20\n",
            "L1 Loss: 0.07586\n"
          ]
        },
        {
          "output_type": "stream",
          "name": "stderr",
          "text": [
            "100%|██████████| 250/250 [05:14<00:00,  1.26s/it]"
          ]
        },
        {
          "output_type": "stream",
          "name": "stdout",
          "text": [
            "Epoch 20/20\n",
            "L1 Loss: 0.07467\n"
          ]
        },
        {
          "output_type": "stream",
          "name": "stderr",
          "text": [
            "\n"
          ]
        }
      ]
    },
    {
      "cell_type": "code",
      "source": [
        "torch.save(net_G.state_dict(), \"/content/drive/My Drive/res18-unet.pt\")"
      ],
      "metadata": {
        "id": "9_CJvpUjV2ia"
      },
      "execution_count": null,
      "outputs": []
    },
    {
      "cell_type": "code",
      "source": [
        "class PatchDiscriminator(nn.Module):\n",
        "    def __init__(self, input_c, num_filters=64, n_down=3):\n",
        "        super().__init__()\n",
        "        model = [self.get_layers(input_c, num_filters, norm=False)]\n",
        "        model += [self.get_layers(num_filters * 2 ** i, num_filters * 2 ** (i + 1), s=1 if i == (n_down-1) else 2)\n",
        "                          for i in range(n_down)]\n",
        "        model += [self.get_layers(num_filters * 2 ** n_down, 1, s=1, norm=False, act=False)]\n",
        "        self.model = nn.Sequential(*model)\n",
        "\n",
        "    def get_layers(self, ni, nf, k=4, s=2, p=1, norm=True, act=True):\n",
        "        if norm: layers += [nn.BatchNorm2d(nf)]\n",
        "        if act: layers += [nn.LeakyReLU(0.2, True)]\n",
        "        return nn.Sequential(*layers)\n",
        "\n",
        "    def forward(self, x):\n",
        "        return self.model(x)"
      ],
      "metadata": {
        "id": "hXvFpio4uXFH"
      },
      "execution_count": 15,
      "outputs": []
    },
    {
      "cell_type": "code",
      "source": [
        "class GANLoss(nn.Module):\n",
        "    def __init__(self, gan_mode='vanilla', real_label=1.0, fake_label=0.0):\n",
        "        super().__init__()\n",
        "        self.register_buffer('real_label', torch.tensor(real_label))\n",
        "        self.register_buffer('fake_label', torch.tensor(fake_label))\n",
        "        if gan_mode == 'vanilla':\n",
        "            self.loss = nn.BCEWithLogitsLoss()\n",
        "        elif gan_mode == 'lsgan':\n",
        "            self.loss = nn.MSELoss()\n",
        "\n",
        "    def get_labels(self, preds, target_is_real):\n",
        "        if target_is_real:\n",
        "            labels = self.real_label\n",
        "        else:\n",
        "            labels = self.fake_label\n",
        "        return labels.expand_as(preds)\n",
        "\n",
        "    def __call__(self, preds, target_is_real):\n",
        "        labels = self.get_labels(preds, target_is_real)\n",
        "        loss = self.loss(preds, labels)\n",
        "        return loss"
      ],
      "metadata": {
        "id": "5liHQYenuX_H"
      },
      "execution_count": 16,
      "outputs": []
    },
    {
      "cell_type": "code",
      "source": [
        "import torch.optim as optim\n",
        "class CGANModel(nn.Module):\n",
        "    def __init__(self, net_G, lr_G=2e-4, lr_D=2e-4,\n",
        "                 beta1=0.5, beta2=0.999, lambda_L1=100.):\n",
        "        super().__init__()\n",
        "\n",
        "        self.device = torch.device(\"cuda\" if torch.cuda.is_available() else \"cpu\")\n",
        "        self.lambda_L1 = lambda_L1\n",
        "\n",
        "        body = create_body(resnet18(), pretrained=True, n_in=1, cut=-2)\n",
        "        self.net_G = DynamicUnet(body, 2, (SIZE, SIZE)).to(device)\n",
        "        self.net_G.load_state_dict(net_G.state_dict())\n",
        "\n",
        "        def initialize_weights_normal(m):\n",
        "          classname = m.__class__.__name__\n",
        "          if hasattr(m, 'weight') and 'Conv' in classname:\n",
        "            nn.init.normal_(m.weight, mean=0.0, std=0.02)\n",
        "            if hasattr(m, 'bias') and m.bias is not None:\n",
        "                nn.init.constant_(m.bias.data, 0.0)\n",
        "          elif 'BatchNorm2d' in classname:\n",
        "            nn.init.normal_(m.weight.data, 1., 0.02)\n",
        "            nn.init.constant_(m.bias.data, 0.)\n",
        "\n",
        "        self.net_D = PatchDiscriminator(input_c=3, n_down=3, num_filters=64).to(self.device)\n",
        "        self.net_D.apply(initialize_weights_normal)\n",
        "        self.GANcriterion = GANLoss(gan_mode='vanilla').to(self.device)\n",
        "        self.L1criterion = nn.L1Loss()\n",
        "        self.opt_G = optim.Adam(self.net_G.parameters(), lr=lr_G, betas=(beta1, beta2))\n",
        "        self.opt_D = optim.Adam(self.net_D.parameters(), lr=lr_D, betas=(beta1, beta2))\n",
        "\n",
        "    def set_requires_grad(self, model, requires_grad=True):\n",
        "        for p in model.parameters():\n",
        "            p.requires_grad = requires_grad\n",
        "\n",
        "    def setup_input(self, data):\n",
        "        L, AB = data\n",
        "        self.L = L.to(self.device)\n",
        "        self.ab = AB.to(self.device)\n",
        "\n",
        "    def forward(self):\n",
        "        self.fake_color = self.net_G(self.L)\n",
        "\n",
        "    def backward_D(self):\n",
        "        fake_image = torch.cat([self.L, self.fake_color], dim=1)\n",
        "        fake_preds = self.net_D(fake_image.detach())\n",
        "        self.loss_D_fake = self.GANcriterion(fake_preds, False)\n",
        "        real_image = torch.cat([self.L, self.ab], dim=1)\n",
        "        real_preds = self.net_D(real_image)\n",
        "        self.loss_D_real = self.GANcriterion(real_preds, True)\n",
        "        self.loss_D = (self.loss_D_fake + self.loss_D_real) * 0.5\n",
        "        self.loss_D.backward()\n",
        "\n",
        "    def backward_G(self):\n",
        "        fake_image = torch.cat([self.L, self.fake_color], dim=1)\n",
        "        fake_preds = self.net_D(fake_image)\n",
        "        self.loss_G_GAN = self.GANcriterion(fake_preds, True)\n",
        "        self.loss_G_L1 = self.L1criterion(self.fake_color, self.ab) * self.lambda_L1\n",
        "        self.loss_G = self.loss_G_GAN + self.loss_G_L1\n",
        "        self.loss_G.backward()\n",
        "\n",
        "    def optimize(self):\n",
        "        self.forward()\n",
        "        self.net_D.train()\n",
        "        self.set_requires_grad(self.net_D, True)\n",
        "        self.opt_D.zero_grad()\n",
        "        self.backward_D()\n",
        "        self.opt_D.step()\n",
        "\n",
        "        self.net_G.train()\n",
        "        self.set_requires_grad(self.net_D, False)\n",
        "        self.opt_G.zero_grad()\n",
        "        self.backward_G()\n",
        "        self.opt_G.step()\n",
        "\n",
        "GANmodel = CGANModel(net_G)"
      ],
      "metadata": {
        "id": "IZxoAxToucvt"
      },
      "execution_count": 17,
      "outputs": []
    },
    {
      "cell_type": "code",
      "source": [
        "def create_loss_meters():\n",
        "    loss_D_fake = AverageMeter()\n",
        "    loss_D_real = AverageMeter()\n",
        "    loss_D = AverageMeter()\n",
        "    loss_G_GAN = AverageMeter()\n",
        "    loss_G_L1 = AverageMeter()\n",
        "    loss_G = AverageMeter()\n",
        "\n",
        "    return {'loss_D_fake': loss_D_fake,\n",
        "            'loss_D_real': loss_D_real,\n",
        "            'loss_D': loss_D,\n",
        "            'loss_G_GAN': loss_G_GAN,\n",
        "            'loss_G_L1': loss_G_L1,\n",
        "            'loss_G': loss_G}\n",
        "\n",
        "def update_losses(model, loss_meter_dict, count):\n",
        "    for loss_name, loss_meter in loss_meter_dict.items():\n",
        "        loss = getattr(model, loss_name)\n",
        "        loss_meter.update(loss.item(), count=count)\n",
        "\n",
        "def log_results(loss_meter_dict):\n",
        "    for loss_name, loss_meter in loss_meter_dict.items():\n",
        "        print(f\"{loss_name}: {loss_meter.avg:.5f}\")"
      ],
      "metadata": {
        "id": "cTcrxR2LwOTS"
      },
      "execution_count": 18,
      "outputs": []
    },
    {
      "cell_type": "code",
      "source": [
        "from tqdm import tqdm\n",
        "import torch.optim as optim\n",
        "\n",
        "def train_GAN_model(model, train_dl, epochs):\n",
        "    for e in range(epochs):\n",
        "        loss_meter_dict = create_loss_meters() # function returing a dictionary of objects to\n",
        "        i = 0                                  # log the losses of the complete network\n",
        "        for data in tqdm(train_dl):\n",
        "            model.setup_input(data)\n",
        "            model.optimize()\n",
        "            L, _ = data\n",
        "            update_losses(model, loss_meter_dict, count=L.size(0)) # function updating the log objects\n",
        "            i += 1\n",
        "            if i % display_every == 0:\n",
        "                print(f\"\\nEpoch {e+1}/{epochs}\")\n",
        "                print(f\"Iteration {i}/{len(train_dl)}\")\n",
        "                log_results(loss_meter_dict) # function to print out the losses"
      ],
      "metadata": {
        "id": "iT0tWi3Iv2PU"
      },
      "execution_count": null,
      "outputs": []
    },
    {
      "cell_type": "code",
      "source": [
        "train_GAN_model(GANmodel, train_dataloader, 20)"
      ],
      "metadata": {
        "colab": {
          "base_uri": "https://localhost:8080/"
        },
        "id": "tbQM6Fb0uiOs",
        "outputId": "136bea28-8156-4850-b76d-53a15a966307"
      },
      "execution_count": null,
      "outputs": [
        {
          "metadata": {
            "tags": null
          },
          "name": "stderr",
          "output_type": "stream",
          "text": [
            " 20%|██        | 50/250 [01:31<05:56,  1.78s/it]"
          ]
        },
        {
          "metadata": {
            "tags": null
          },
          "name": "stdout",
          "output_type": "stream",
          "text": [
            "\n",
            "Epoch 1/20\n",
            "Iteration 50/250\n",
            "loss_D_fake: 0.68115\n",
            "loss_D_real: 0.70476\n",
            "loss_D: 0.69296\n",
            "loss_G_GAN: 0.94142\n",
            "loss_G_L1: 8.63748\n",
            "loss_G: 9.57890\n"
          ]
        },
        {
          "metadata": {
            "tags": null
          },
          "name": "stderr",
          "output_type": "stream",
          "text": [
            " 40%|████      | 100/250 [03:00<04:24,  1.77s/it]"
          ]
        },
        {
          "metadata": {
            "tags": null
          },
          "name": "stdout",
          "output_type": "stream",
          "text": [
            "\n",
            "Epoch 1/20\n",
            "Iteration 100/250\n",
            "loss_D_fake: 0.53646\n",
            "loss_D_real: 0.55461\n",
            "loss_D: 0.54554\n",
            "loss_G_GAN: 1.28586\n",
            "loss_G_L1: 8.96456\n",
            "loss_G: 10.25042\n"
          ]
        },
        {
          "metadata": {
            "tags": null
          },
          "name": "stderr",
          "output_type": "stream",
          "text": [
            " 60%|██████    | 150/250 [04:28<02:56,  1.77s/it]"
          ]
        },
        {
          "metadata": {
            "tags": null
          },
          "name": "stdout",
          "output_type": "stream",
          "text": [
            "\n",
            "Epoch 1/20\n",
            "Iteration 150/250\n",
            "loss_D_fake: 0.42810\n",
            "loss_D_real: 0.44831\n",
            "loss_D: 0.43821\n",
            "loss_G_GAN: 1.72279\n",
            "loss_G_L1: 8.98240\n",
            "loss_G: 10.70519\n"
          ]
        },
        {
          "metadata": {
            "tags": null
          },
          "name": "stderr",
          "output_type": "stream",
          "text": [
            " 80%|████████  | 200/250 [05:56<01:28,  1.77s/it]"
          ]
        },
        {
          "metadata": {
            "tags": null
          },
          "name": "stdout",
          "output_type": "stream",
          "text": [
            "\n",
            "Epoch 1/20\n",
            "Iteration 200/250\n",
            "loss_D_fake: 0.40536\n",
            "loss_D_real: 0.42050\n",
            "loss_D: 0.41293\n",
            "loss_G_GAN: 1.93134\n",
            "loss_G_L1: 9.09594\n",
            "loss_G: 11.02728\n"
          ]
        },
        {
          "metadata": {
            "tags": null
          },
          "name": "stderr",
          "output_type": "stream",
          "text": [
            "100%|██████████| 250/250 [07:24<00:00,  1.78s/it]\n"
          ]
        },
        {
          "metadata": {
            "tags": null
          },
          "name": "stdout",
          "output_type": "stream",
          "text": [
            "\n",
            "Epoch 1/20\n",
            "Iteration 250/250\n",
            "loss_D_fake: 0.39354\n",
            "loss_D_real: 0.40677\n",
            "loss_D: 0.40016\n",
            "loss_G_GAN: 2.01270\n",
            "loss_G_L1: 9.14675\n",
            "loss_G: 11.15945\n"
          ]
        },
        {
          "metadata": {
            "tags": null
          },
          "name": "stderr",
          "output_type": "stream",
          "text": [
            " 20%|██        | 50/250 [01:29<05:52,  1.76s/it]"
          ]
        },
        {
          "metadata": {
            "tags": null
          },
          "name": "stdout",
          "output_type": "stream",
          "text": [
            "\n",
            "Epoch 2/20\n",
            "Iteration 50/250\n",
            "loss_D_fake: 0.47030\n",
            "loss_D_real: 0.46942\n",
            "loss_D: 0.46986\n",
            "loss_G_GAN: 1.55966\n",
            "loss_G_L1: 10.01010\n",
            "loss_G: 11.56976\n"
          ]
        },
        {
          "metadata": {
            "tags": null
          },
          "name": "stderr",
          "output_type": "stream",
          "text": [
            " 40%|████      | 100/250 [02:57<04:24,  1.76s/it]"
          ]
        },
        {
          "metadata": {
            "tags": null
          },
          "name": "stdout",
          "output_type": "stream",
          "text": [
            "\n",
            "Epoch 2/20\n",
            "Iteration 100/250\n",
            "loss_D_fake: 0.47889\n",
            "loss_D_real: 0.49181\n",
            "loss_D: 0.48535\n",
            "loss_G_GAN: 1.54849\n",
            "loss_G_L1: 10.06171\n",
            "loss_G: 11.61020\n"
          ]
        },
        {
          "metadata": {
            "tags": null
          },
          "name": "stderr",
          "output_type": "stream",
          "text": [
            " 60%|██████    | 150/250 [04:25<02:56,  1.77s/it]"
          ]
        },
        {
          "metadata": {
            "tags": null
          },
          "name": "stdout",
          "output_type": "stream",
          "text": [
            "\n",
            "Epoch 2/20\n",
            "Iteration 150/250\n",
            "loss_D_fake: 0.48657\n",
            "loss_D_real: 0.49678\n",
            "loss_D: 0.49167\n",
            "loss_G_GAN: 1.55070\n",
            "loss_G_L1: 10.14889\n",
            "loss_G: 11.69958\n"
          ]
        },
        {
          "metadata": {
            "tags": null
          },
          "name": "stderr",
          "output_type": "stream",
          "text": [
            " 80%|████████  | 200/250 [05:53<01:28,  1.76s/it]"
          ]
        },
        {
          "metadata": {
            "tags": null
          },
          "name": "stdout",
          "output_type": "stream",
          "text": [
            "\n",
            "Epoch 2/20\n",
            "Iteration 200/250\n",
            "loss_D_fake: 0.48272\n",
            "loss_D_real: 0.48851\n",
            "loss_D: 0.48561\n",
            "loss_G_GAN: 1.59770\n",
            "loss_G_L1: 10.20920\n",
            "loss_G: 11.80690\n"
          ]
        },
        {
          "metadata": {
            "tags": null
          },
          "name": "stderr",
          "output_type": "stream",
          "text": [
            "100%|██████████| 250/250 [07:22<00:00,  1.77s/it]\n"
          ]
        },
        {
          "metadata": {
            "tags": null
          },
          "name": "stdout",
          "output_type": "stream",
          "text": [
            "\n",
            "Epoch 2/20\n",
            "Iteration 250/250\n",
            "loss_D_fake: 0.48063\n",
            "loss_D_real: 0.48692\n",
            "loss_D: 0.48377\n",
            "loss_G_GAN: 1.58397\n",
            "loss_G_L1: 10.20139\n",
            "loss_G: 11.78536\n"
          ]
        },
        {
          "metadata": {
            "tags": null
          },
          "name": "stderr",
          "output_type": "stream",
          "text": [
            " 20%|██        | 50/250 [01:29<05:52,  1.76s/it]"
          ]
        },
        {
          "metadata": {
            "tags": null
          },
          "name": "stdout",
          "output_type": "stream",
          "text": [
            "\n",
            "Epoch 3/20\n",
            "Iteration 50/250\n",
            "loss_D_fake: 0.50632\n",
            "loss_D_real: 0.52321\n",
            "loss_D: 0.51477\n",
            "loss_G_GAN: 1.54689\n",
            "loss_G_L1: 10.24240\n",
            "loss_G: 11.78929\n"
          ]
        },
        {
          "metadata": {
            "tags": null
          },
          "name": "stderr",
          "output_type": "stream",
          "text": [
            " 40%|████      | 100/250 [02:57<04:24,  1.76s/it]"
          ]
        },
        {
          "metadata": {
            "tags": null
          },
          "name": "stdout",
          "output_type": "stream",
          "text": [
            "\n",
            "Epoch 3/20\n",
            "Iteration 100/250\n",
            "loss_D_fake: 0.49400\n",
            "loss_D_real: 0.50658\n",
            "loss_D: 0.50029\n",
            "loss_G_GAN: 1.55309\n",
            "loss_G_L1: 10.44998\n",
            "loss_G: 12.00308\n"
          ]
        },
        {
          "metadata": {
            "tags": null
          },
          "name": "stderr",
          "output_type": "stream",
          "text": [
            " 60%|██████    | 150/250 [04:25<02:56,  1.76s/it]"
          ]
        },
        {
          "metadata": {
            "tags": null
          },
          "name": "stdout",
          "output_type": "stream",
          "text": [
            "\n",
            "Epoch 3/20\n",
            "Iteration 150/250\n",
            "loss_D_fake: 0.48838\n",
            "loss_D_real: 0.50321\n",
            "loss_D: 0.49580\n",
            "loss_G_GAN: 1.54586\n",
            "loss_G_L1: 10.45962\n",
            "loss_G: 12.00548\n"
          ]
        },
        {
          "metadata": {
            "tags": null
          },
          "name": "stderr",
          "output_type": "stream",
          "text": [
            " 80%|████████  | 200/250 [05:53<01:28,  1.76s/it]"
          ]
        },
        {
          "metadata": {
            "tags": null
          },
          "name": "stdout",
          "output_type": "stream",
          "text": [
            "\n",
            "Epoch 3/20\n",
            "Iteration 200/250\n",
            "loss_D_fake: 0.49248\n",
            "loss_D_real: 0.50571\n",
            "loss_D: 0.49910\n",
            "loss_G_GAN: 1.53964\n",
            "loss_G_L1: 10.51067\n",
            "loss_G: 12.05031\n"
          ]
        },
        {
          "metadata": {
            "tags": null
          },
          "name": "stderr",
          "output_type": "stream",
          "text": [
            "100%|██████████| 250/250 [07:22<00:00,  1.77s/it]\n"
          ]
        },
        {
          "metadata": {
            "tags": null
          },
          "name": "stdout",
          "output_type": "stream",
          "text": [
            "\n",
            "Epoch 3/20\n",
            "Iteration 250/250\n",
            "loss_D_fake: 0.49839\n",
            "loss_D_real: 0.50973\n",
            "loss_D: 0.50406\n",
            "loss_G_GAN: 1.51230\n",
            "loss_G_L1: 10.54765\n",
            "loss_G: 12.05994\n"
          ]
        },
        {
          "metadata": {
            "tags": null
          },
          "name": "stderr",
          "output_type": "stream",
          "text": [
            " 20%|██        | 50/250 [01:29<05:51,  1.76s/it]"
          ]
        },
        {
          "metadata": {
            "tags": null
          },
          "name": "stdout",
          "output_type": "stream",
          "text": [
            "\n",
            "Epoch 4/20\n",
            "Iteration 50/250\n",
            "loss_D_fake: 0.53870\n",
            "loss_D_real: 0.54606\n",
            "loss_D: 0.54238\n",
            "loss_G_GAN: 1.38108\n",
            "loss_G_L1: 10.51458\n",
            "loss_G: 11.89566\n"
          ]
        },
        {
          "metadata": {
            "tags": null
          },
          "name": "stderr",
          "output_type": "stream",
          "text": [
            " 40%|████      | 100/250 [02:57<04:26,  1.77s/it]"
          ]
        },
        {
          "metadata": {
            "tags": null
          },
          "name": "stdout",
          "output_type": "stream",
          "text": [
            "\n",
            "Epoch 4/20\n",
            "Iteration 100/250\n",
            "loss_D_fake: 0.52063\n",
            "loss_D_real: 0.52918\n",
            "loss_D: 0.52490\n",
            "loss_G_GAN: 1.41332\n",
            "loss_G_L1: 10.60270\n",
            "loss_G: 12.01602\n"
          ]
        },
        {
          "metadata": {
            "tags": null
          },
          "name": "stderr",
          "output_type": "stream",
          "text": [
            " 60%|██████    | 150/250 [04:25<02:56,  1.76s/it]"
          ]
        },
        {
          "metadata": {
            "tags": null
          },
          "name": "stdout",
          "output_type": "stream",
          "text": [
            "\n",
            "Epoch 4/20\n",
            "Iteration 150/250\n",
            "loss_D_fake: 0.51045\n",
            "loss_D_real: 0.53530\n",
            "loss_D: 0.52288\n",
            "loss_G_GAN: 1.40723\n",
            "loss_G_L1: 10.64070\n",
            "loss_G: 12.04793\n"
          ]
        },
        {
          "metadata": {
            "tags": null
          },
          "name": "stderr",
          "output_type": "stream",
          "text": [
            " 80%|████████  | 200/250 [05:53<01:28,  1.76s/it]"
          ]
        },
        {
          "metadata": {
            "tags": null
          },
          "name": "stdout",
          "output_type": "stream",
          "text": [
            "\n",
            "Epoch 4/20\n",
            "Iteration 200/250\n",
            "loss_D_fake: 0.51727\n",
            "loss_D_real: 0.53960\n",
            "loss_D: 0.52844\n",
            "loss_G_GAN: 1.38911\n",
            "loss_G_L1: 10.66077\n",
            "loss_G: 12.04988\n"
          ]
        },
        {
          "metadata": {
            "tags": null
          },
          "name": "stderr",
          "output_type": "stream",
          "text": [
            "100%|██████████| 250/250 [07:22<00:00,  1.77s/it]\n"
          ]
        },
        {
          "metadata": {
            "tags": null
          },
          "name": "stdout",
          "output_type": "stream",
          "text": [
            "\n",
            "Epoch 4/20\n",
            "Iteration 250/250\n",
            "loss_D_fake: 0.52105\n",
            "loss_D_real: 0.54423\n",
            "loss_D: 0.53264\n",
            "loss_G_GAN: 1.37659\n",
            "loss_G_L1: 10.66505\n",
            "loss_G: 12.04164\n"
          ]
        },
        {
          "metadata": {
            "tags": null
          },
          "name": "stderr",
          "output_type": "stream",
          "text": [
            " 20%|██        | 50/250 [01:29<05:52,  1.76s/it]"
          ]
        },
        {
          "metadata": {
            "tags": null
          },
          "name": "stdout",
          "output_type": "stream",
          "text": [
            "\n",
            "Epoch 5/20\n",
            "Iteration 50/250\n",
            "loss_D_fake: 0.54236\n",
            "loss_D_real: 0.57198\n",
            "loss_D: 0.55717\n",
            "loss_G_GAN: 1.27430\n",
            "loss_G_L1: 10.59069\n",
            "loss_G: 11.86499\n"
          ]
        },
        {
          "metadata": {
            "tags": null
          },
          "name": "stderr",
          "output_type": "stream",
          "text": [
            " 40%|████      | 100/250 [02:57<04:24,  1.76s/it]"
          ]
        },
        {
          "metadata": {
            "tags": null
          },
          "name": "stdout",
          "output_type": "stream",
          "text": [
            "\n",
            "Epoch 5/20\n",
            "Iteration 100/250\n",
            "loss_D_fake: 0.54567\n",
            "loss_D_real: 0.56490\n",
            "loss_D: 0.55528\n",
            "loss_G_GAN: 1.25759\n",
            "loss_G_L1: 10.59450\n",
            "loss_G: 11.85209\n"
          ]
        },
        {
          "metadata": {
            "tags": null
          },
          "name": "stderr",
          "output_type": "stream",
          "text": [
            " 60%|██████    | 150/250 [04:25<02:56,  1.76s/it]"
          ]
        },
        {
          "metadata": {
            "tags": null
          },
          "name": "stdout",
          "output_type": "stream",
          "text": [
            "\n",
            "Epoch 5/20\n",
            "Iteration 150/250\n",
            "loss_D_fake: 0.54213\n",
            "loss_D_real: 0.56747\n",
            "loss_D: 0.55480\n",
            "loss_G_GAN: 1.26789\n",
            "loss_G_L1: 10.65033\n",
            "loss_G: 11.91822\n"
          ]
        },
        {
          "metadata": {
            "tags": null
          },
          "name": "stderr",
          "output_type": "stream",
          "text": [
            " 80%|████████  | 200/250 [05:53<01:28,  1.76s/it]"
          ]
        },
        {
          "metadata": {
            "tags": null
          },
          "name": "stdout",
          "output_type": "stream",
          "text": [
            "\n",
            "Epoch 5/20\n",
            "Iteration 200/250\n",
            "loss_D_fake: 0.53736\n",
            "loss_D_real: 0.57338\n",
            "loss_D: 0.55537\n",
            "loss_G_GAN: 1.27114\n",
            "loss_G_L1: 10.65804\n",
            "loss_G: 11.92918\n"
          ]
        },
        {
          "metadata": {
            "tags": null
          },
          "name": "stderr",
          "output_type": "stream",
          "text": [
            "100%|██████████| 250/250 [07:21<00:00,  1.77s/it]\n"
          ]
        },
        {
          "metadata": {
            "tags": null
          },
          "name": "stdout",
          "output_type": "stream",
          "text": [
            "\n",
            "Epoch 5/20\n",
            "Iteration 250/250\n",
            "loss_D_fake: 0.53761\n",
            "loss_D_real: 0.57900\n",
            "loss_D: 0.55831\n",
            "loss_G_GAN: 1.26061\n",
            "loss_G_L1: 10.65013\n",
            "loss_G: 11.91073\n"
          ]
        },
        {
          "metadata": {
            "tags": null
          },
          "name": "stderr",
          "output_type": "stream",
          "text": [
            " 20%|██        | 50/250 [01:29<05:50,  1.75s/it]"
          ]
        },
        {
          "metadata": {
            "tags": null
          },
          "name": "stdout",
          "output_type": "stream",
          "text": [
            "\n",
            "Epoch 6/20\n",
            "Iteration 50/250\n",
            "loss_D_fake: 0.55294\n",
            "loss_D_real: 0.59057\n",
            "loss_D: 0.57175\n",
            "loss_G_GAN: 1.26234\n",
            "loss_G_L1: 10.55368\n",
            "loss_G: 11.81601\n"
          ]
        },
        {
          "metadata": {
            "tags": null
          },
          "name": "stderr",
          "output_type": "stream",
          "text": [
            " 40%|████      | 100/250 [02:57<04:23,  1.76s/it]"
          ]
        },
        {
          "metadata": {
            "tags": null
          },
          "name": "stdout",
          "output_type": "stream",
          "text": [
            "\n",
            "Epoch 6/20\n",
            "Iteration 100/250\n",
            "loss_D_fake: 0.54593\n",
            "loss_D_real: 0.58933\n",
            "loss_D: 0.56763\n",
            "loss_G_GAN: 1.24156\n",
            "loss_G_L1: 10.58965\n",
            "loss_G: 11.83121\n"
          ]
        },
        {
          "metadata": {
            "tags": null
          },
          "name": "stderr",
          "output_type": "stream",
          "text": [
            " 60%|██████    | 150/250 [04:25<02:56,  1.77s/it]"
          ]
        },
        {
          "metadata": {
            "tags": null
          },
          "name": "stdout",
          "output_type": "stream",
          "text": [
            "\n",
            "Epoch 6/20\n",
            "Iteration 150/250\n",
            "loss_D_fake: 0.53781\n",
            "loss_D_real: 0.57941\n",
            "loss_D: 0.55861\n",
            "loss_G_GAN: 1.24346\n",
            "loss_G_L1: 10.54918\n",
            "loss_G: 11.79264\n"
          ]
        },
        {
          "metadata": {
            "tags": null
          },
          "name": "stderr",
          "output_type": "stream",
          "text": [
            " 80%|████████  | 200/250 [05:53<01:27,  1.76s/it]"
          ]
        },
        {
          "metadata": {
            "tags": null
          },
          "name": "stdout",
          "output_type": "stream",
          "text": [
            "\n",
            "Epoch 6/20\n",
            "Iteration 200/250\n",
            "loss_D_fake: 0.54196\n",
            "loss_D_real: 0.58252\n",
            "loss_D: 0.56224\n",
            "loss_G_GAN: 1.23036\n",
            "loss_G_L1: 10.59885\n",
            "loss_G: 11.82921\n"
          ]
        },
        {
          "metadata": {
            "tags": null
          },
          "name": "stderr",
          "output_type": "stream",
          "text": [
            "100%|██████████| 250/250 [07:21<00:00,  1.77s/it]\n"
          ]
        },
        {
          "metadata": {
            "tags": null
          },
          "name": "stdout",
          "output_type": "stream",
          "text": [
            "\n",
            "Epoch 6/20\n",
            "Iteration 250/250\n",
            "loss_D_fake: 0.54506\n",
            "loss_D_real: 0.58325\n",
            "loss_D: 0.56415\n",
            "loss_G_GAN: 1.24339\n",
            "loss_G_L1: 10.68505\n",
            "loss_G: 11.92843\n"
          ]
        },
        {
          "metadata": {
            "tags": null
          },
          "name": "stderr",
          "output_type": "stream",
          "text": [
            " 20%|██        | 50/250 [01:29<05:52,  1.76s/it]"
          ]
        },
        {
          "metadata": {
            "tags": null
          },
          "name": "stdout",
          "output_type": "stream",
          "text": [
            "\n",
            "Epoch 7/20\n",
            "Iteration 50/250\n",
            "loss_D_fake: 0.54131\n",
            "loss_D_real: 0.57588\n",
            "loss_D: 0.55860\n",
            "loss_G_GAN: 1.25479\n",
            "loss_G_L1: 10.64922\n",
            "loss_G: 11.90402\n"
          ]
        },
        {
          "metadata": {
            "tags": null
          },
          "name": "stderr",
          "output_type": "stream",
          "text": [
            " 40%|████      | 100/250 [02:57<04:23,  1.76s/it]"
          ]
        },
        {
          "metadata": {
            "tags": null
          },
          "name": "stdout",
          "output_type": "stream",
          "text": [
            "\n",
            "Epoch 7/20\n",
            "Iteration 100/250\n",
            "loss_D_fake: 0.55420\n",
            "loss_D_real: 0.59377\n",
            "loss_D: 0.57399\n",
            "loss_G_GAN: 1.19445\n",
            "loss_G_L1: 10.50404\n",
            "loss_G: 11.69849\n"
          ]
        },
        {
          "metadata": {
            "tags": null
          },
          "name": "stderr",
          "output_type": "stream",
          "text": [
            " 60%|██████    | 150/250 [04:25<02:55,  1.76s/it]"
          ]
        },
        {
          "metadata": {
            "tags": null
          },
          "name": "stdout",
          "output_type": "stream",
          "text": [
            "\n",
            "Epoch 7/20\n",
            "Iteration 150/250\n",
            "loss_D_fake: 0.55067\n",
            "loss_D_real: 0.57904\n",
            "loss_D: 0.56485\n",
            "loss_G_GAN: 1.20857\n",
            "loss_G_L1: 10.54206\n",
            "loss_G: 11.75063\n"
          ]
        },
        {
          "metadata": {
            "tags": null
          },
          "name": "stderr",
          "output_type": "stream",
          "text": [
            " 80%|████████  | 200/250 [05:53<01:28,  1.76s/it]"
          ]
        },
        {
          "metadata": {
            "tags": null
          },
          "name": "stdout",
          "output_type": "stream",
          "text": [
            "\n",
            "Epoch 7/20\n",
            "Iteration 200/250\n",
            "loss_D_fake: 0.54859\n",
            "loss_D_real: 0.57890\n",
            "loss_D: 0.56374\n",
            "loss_G_GAN: 1.20999\n",
            "loss_G_L1: 10.63458\n",
            "loss_G: 11.84457\n"
          ]
        },
        {
          "metadata": {
            "tags": null
          },
          "name": "stderr",
          "output_type": "stream",
          "text": [
            "100%|██████████| 250/250 [07:21<00:00,  1.76s/it]\n"
          ]
        },
        {
          "metadata": {
            "tags": null
          },
          "name": "stdout",
          "output_type": "stream",
          "text": [
            "\n",
            "Epoch 7/20\n",
            "Iteration 250/250\n",
            "loss_D_fake: 0.54825\n",
            "loss_D_real: 0.57971\n",
            "loss_D: 0.56398\n",
            "loss_G_GAN: 1.20463\n",
            "loss_G_L1: 10.66099\n",
            "loss_G: 11.86561\n"
          ]
        },
        {
          "metadata": {
            "tags": null
          },
          "name": "stderr",
          "output_type": "stream",
          "text": [
            " 20%|██        | 50/250 [01:29<05:52,  1.76s/it]"
          ]
        },
        {
          "metadata": {
            "tags": null
          },
          "name": "stdout",
          "output_type": "stream",
          "text": [
            "\n",
            "Epoch 8/20\n",
            "Iteration 50/250\n",
            "loss_D_fake: 0.52494\n",
            "loss_D_real: 0.58908\n",
            "loss_D: 0.55701\n",
            "loss_G_GAN: 1.24559\n",
            "loss_G_L1: 10.58793\n",
            "loss_G: 11.83352\n"
          ]
        },
        {
          "metadata": {
            "tags": null
          },
          "name": "stderr",
          "output_type": "stream",
          "text": [
            " 40%|████      | 100/250 [02:57<04:24,  1.76s/it]"
          ]
        },
        {
          "metadata": {
            "tags": null
          },
          "name": "stdout",
          "output_type": "stream",
          "text": [
            "\n",
            "Epoch 8/20\n",
            "Iteration 100/250\n",
            "loss_D_fake: 0.54323\n",
            "loss_D_real: 0.58638\n",
            "loss_D: 0.56480\n",
            "loss_G_GAN: 1.22952\n",
            "loss_G_L1: 10.54285\n",
            "loss_G: 11.77238\n"
          ]
        },
        {
          "metadata": {
            "tags": null
          },
          "name": "stderr",
          "output_type": "stream",
          "text": [
            " 60%|██████    | 150/250 [04:25<02:55,  1.76s/it]"
          ]
        },
        {
          "metadata": {
            "tags": null
          },
          "name": "stdout",
          "output_type": "stream",
          "text": [
            "\n",
            "Epoch 8/20\n",
            "Iteration 150/250\n",
            "loss_D_fake: 0.54371\n",
            "loss_D_real: 0.58986\n",
            "loss_D: 0.56678\n",
            "loss_G_GAN: 1.20368\n",
            "loss_G_L1: 10.54692\n",
            "loss_G: 11.75060\n"
          ]
        },
        {
          "metadata": {
            "tags": null
          },
          "name": "stderr",
          "output_type": "stream",
          "text": [
            " 80%|████████  | 200/250 [05:53<01:28,  1.76s/it]"
          ]
        },
        {
          "metadata": {
            "tags": null
          },
          "name": "stdout",
          "output_type": "stream",
          "text": [
            "\n",
            "Epoch 8/20\n",
            "Iteration 200/250\n",
            "loss_D_fake: 0.54355\n",
            "loss_D_real: 0.58902\n",
            "loss_D: 0.56629\n",
            "loss_G_GAN: 1.19859\n",
            "loss_G_L1: 10.57631\n",
            "loss_G: 11.77490\n"
          ]
        },
        {
          "metadata": {
            "tags": null
          },
          "name": "stderr",
          "output_type": "stream",
          "text": [
            "100%|██████████| 250/250 [07:21<00:00,  1.77s/it]\n"
          ]
        },
        {
          "metadata": {
            "tags": null
          },
          "name": "stdout",
          "output_type": "stream",
          "text": [
            "\n",
            "Epoch 8/20\n",
            "Iteration 250/250\n",
            "loss_D_fake: 0.54932\n",
            "loss_D_real: 0.59201\n",
            "loss_D: 0.57067\n",
            "loss_G_GAN: 1.18884\n",
            "loss_G_L1: 10.57376\n",
            "loss_G: 11.76260\n"
          ]
        },
        {
          "metadata": {
            "tags": null
          },
          "name": "stderr",
          "output_type": "stream",
          "text": [
            " 20%|██        | 50/250 [01:29<05:51,  1.76s/it]"
          ]
        },
        {
          "metadata": {
            "tags": null
          },
          "name": "stdout",
          "output_type": "stream",
          "text": [
            "\n",
            "Epoch 9/20\n",
            "Iteration 50/250\n",
            "loss_D_fake: 0.56873\n",
            "loss_D_real: 0.58469\n",
            "loss_D: 0.57671\n",
            "loss_G_GAN: 1.15444\n",
            "loss_G_L1: 10.42851\n",
            "loss_G: 11.58295\n"
          ]
        },
        {
          "metadata": {
            "tags": null
          },
          "name": "stderr",
          "output_type": "stream",
          "text": [
            " 40%|████      | 100/250 [02:57<04:24,  1.76s/it]"
          ]
        },
        {
          "metadata": {
            "tags": null
          },
          "name": "stdout",
          "output_type": "stream",
          "text": [
            "\n",
            "Epoch 9/20\n",
            "Iteration 100/250\n",
            "loss_D_fake: 0.55570\n",
            "loss_D_real: 0.59831\n",
            "loss_D: 0.57700\n",
            "loss_G_GAN: 1.16996\n",
            "loss_G_L1: 10.53574\n",
            "loss_G: 11.70570\n"
          ]
        },
        {
          "metadata": {
            "tags": null
          },
          "name": "stderr",
          "output_type": "stream",
          "text": [
            " 60%|██████    | 150/250 [04:25<02:56,  1.76s/it]"
          ]
        },
        {
          "metadata": {
            "tags": null
          },
          "name": "stdout",
          "output_type": "stream",
          "text": [
            "\n",
            "Epoch 9/20\n",
            "Iteration 150/250\n",
            "loss_D_fake: 0.56555\n",
            "loss_D_real: 0.59572\n",
            "loss_D: 0.58063\n",
            "loss_G_GAN: 1.16722\n",
            "loss_G_L1: 10.61540\n",
            "loss_G: 11.78262\n"
          ]
        },
        {
          "metadata": {
            "tags": null
          },
          "name": "stderr",
          "output_type": "stream",
          "text": [
            " 80%|████████  | 200/250 [05:53<01:28,  1.76s/it]"
          ]
        },
        {
          "metadata": {
            "tags": null
          },
          "name": "stdout",
          "output_type": "stream",
          "text": [
            "\n",
            "Epoch 9/20\n",
            "Iteration 200/250\n",
            "loss_D_fake: 0.56591\n",
            "loss_D_real: 0.59681\n",
            "loss_D: 0.58136\n",
            "loss_G_GAN: 1.16105\n",
            "loss_G_L1: 10.58416\n",
            "loss_G: 11.74521\n"
          ]
        },
        {
          "metadata": {
            "tags": null
          },
          "name": "stderr",
          "output_type": "stream",
          "text": [
            "100%|██████████| 250/250 [07:21<00:00,  1.77s/it]\n"
          ]
        },
        {
          "metadata": {
            "tags": null
          },
          "name": "stdout",
          "output_type": "stream",
          "text": [
            "\n",
            "Epoch 9/20\n",
            "Iteration 250/250\n",
            "loss_D_fake: 0.56643\n",
            "loss_D_real: 0.59482\n",
            "loss_D: 0.58063\n",
            "loss_G_GAN: 1.16155\n",
            "loss_G_L1: 10.59314\n",
            "loss_G: 11.75469\n"
          ]
        },
        {
          "metadata": {
            "tags": null
          },
          "name": "stderr",
          "output_type": "stream",
          "text": [
            " 20%|██        | 50/250 [01:29<05:53,  1.77s/it]"
          ]
        },
        {
          "metadata": {
            "tags": null
          },
          "name": "stdout",
          "output_type": "stream",
          "text": [
            "\n",
            "Epoch 10/20\n",
            "Iteration 50/250\n",
            "loss_D_fake: 0.57093\n",
            "loss_D_real: 0.60829\n",
            "loss_D: 0.58961\n",
            "loss_G_GAN: 1.14736\n",
            "loss_G_L1: 10.57614\n",
            "loss_G: 11.72351\n"
          ]
        },
        {
          "metadata": {
            "tags": null
          },
          "name": "stderr",
          "output_type": "stream",
          "text": [
            " 40%|████      | 100/250 [02:57<04:23,  1.76s/it]"
          ]
        },
        {
          "metadata": {
            "tags": null
          },
          "name": "stdout",
          "output_type": "stream",
          "text": [
            "\n",
            "Epoch 10/20\n",
            "Iteration 100/250\n",
            "loss_D_fake: 0.56572\n",
            "loss_D_real: 0.59695\n",
            "loss_D: 0.58134\n",
            "loss_G_GAN: 1.13821\n",
            "loss_G_L1: 10.61108\n",
            "loss_G: 11.74930\n"
          ]
        },
        {
          "metadata": {
            "tags": null
          },
          "name": "stderr",
          "output_type": "stream",
          "text": [
            " 60%|██████    | 150/250 [04:25<02:55,  1.76s/it]"
          ]
        },
        {
          "metadata": {
            "tags": null
          },
          "name": "stdout",
          "output_type": "stream",
          "text": [
            "\n",
            "Epoch 10/20\n",
            "Iteration 150/250\n",
            "loss_D_fake: 0.56703\n",
            "loss_D_real: 0.59724\n",
            "loss_D: 0.58214\n",
            "loss_G_GAN: 1.12932\n",
            "loss_G_L1: 10.61469\n",
            "loss_G: 11.74401\n"
          ]
        },
        {
          "metadata": {
            "tags": null
          },
          "name": "stderr",
          "output_type": "stream",
          "text": [
            " 80%|████████  | 200/250 [05:53<01:28,  1.76s/it]"
          ]
        },
        {
          "metadata": {
            "tags": null
          },
          "name": "stdout",
          "output_type": "stream",
          "text": [
            "\n",
            "Epoch 10/20\n",
            "Iteration 200/250\n",
            "loss_D_fake: 0.57056\n",
            "loss_D_real: 0.60227\n",
            "loss_D: 0.58642\n",
            "loss_G_GAN: 1.12695\n",
            "loss_G_L1: 10.58514\n",
            "loss_G: 11.71209\n"
          ]
        },
        {
          "metadata": {
            "tags": null
          },
          "name": "stderr",
          "output_type": "stream",
          "text": [
            "100%|██████████| 250/250 [07:21<00:00,  1.77s/it]\n"
          ]
        },
        {
          "metadata": {
            "tags": null
          },
          "name": "stdout",
          "output_type": "stream",
          "text": [
            "\n",
            "Epoch 10/20\n",
            "Iteration 250/250\n",
            "loss_D_fake: 0.56851\n",
            "loss_D_real: 0.60151\n",
            "loss_D: 0.58501\n",
            "loss_G_GAN: 1.12880\n",
            "loss_G_L1: 10.57194\n",
            "loss_G: 11.70074\n"
          ]
        },
        {
          "metadata": {
            "tags": null
          },
          "name": "stderr",
          "output_type": "stream",
          "text": [
            " 20%|██        | 50/250 [01:29<05:52,  1.76s/it]"
          ]
        },
        {
          "metadata": {
            "tags": null
          },
          "name": "stdout",
          "output_type": "stream",
          "text": [
            "\n",
            "Epoch 11/20\n",
            "Iteration 50/250\n",
            "loss_D_fake: 0.57692\n",
            "loss_D_real: 0.60241\n",
            "loss_D: 0.58967\n",
            "loss_G_GAN: 1.10538\n",
            "loss_G_L1: 10.66825\n",
            "loss_G: 11.77363\n"
          ]
        },
        {
          "metadata": {
            "tags": null
          },
          "name": "stderr",
          "output_type": "stream",
          "text": [
            " 40%|████      | 100/250 [02:57<04:23,  1.76s/it]"
          ]
        },
        {
          "metadata": {
            "tags": null
          },
          "name": "stdout",
          "output_type": "stream",
          "text": [
            "\n",
            "Epoch 11/20\n",
            "Iteration 100/250\n",
            "loss_D_fake: 0.57258\n",
            "loss_D_real: 0.60787\n",
            "loss_D: 0.59022\n",
            "loss_G_GAN: 1.12497\n",
            "loss_G_L1: 10.67324\n",
            "loss_G: 11.79822\n"
          ]
        },
        {
          "metadata": {
            "tags": null
          },
          "name": "stderr",
          "output_type": "stream",
          "text": [
            " 60%|██████    | 150/250 [04:24<02:56,  1.77s/it]"
          ]
        },
        {
          "metadata": {
            "tags": null
          },
          "name": "stdout",
          "output_type": "stream",
          "text": [
            "\n",
            "Epoch 11/20\n",
            "Iteration 150/250\n",
            "loss_D_fake: 0.56769\n",
            "loss_D_real: 0.60462\n",
            "loss_D: 0.58616\n",
            "loss_G_GAN: 1.13299\n",
            "loss_G_L1: 10.68499\n",
            "loss_G: 11.81798\n"
          ]
        },
        {
          "metadata": {
            "tags": null
          },
          "name": "stderr",
          "output_type": "stream",
          "text": [
            " 80%|████████  | 200/250 [05:53<01:28,  1.76s/it]"
          ]
        },
        {
          "metadata": {
            "tags": null
          },
          "name": "stdout",
          "output_type": "stream",
          "text": [
            "\n",
            "Epoch 11/20\n",
            "Iteration 200/250\n",
            "loss_D_fake: 0.56846\n",
            "loss_D_real: 0.60456\n",
            "loss_D: 0.58651\n",
            "loss_G_GAN: 1.12999\n",
            "loss_G_L1: 10.62268\n",
            "loss_G: 11.75267\n"
          ]
        },
        {
          "metadata": {
            "tags": null
          },
          "name": "stderr",
          "output_type": "stream",
          "text": [
            "100%|██████████| 250/250 [07:21<00:00,  1.76s/it]\n"
          ]
        },
        {
          "metadata": {
            "tags": null
          },
          "name": "stdout",
          "output_type": "stream",
          "text": [
            "\n",
            "Epoch 11/20\n",
            "Iteration 250/250\n",
            "loss_D_fake: 0.56797\n",
            "loss_D_real: 0.60385\n",
            "loss_D: 0.58591\n",
            "loss_G_GAN: 1.12855\n",
            "loss_G_L1: 10.56688\n",
            "loss_G: 11.69543\n"
          ]
        },
        {
          "metadata": {
            "tags": null
          },
          "name": "stderr",
          "output_type": "stream",
          "text": [
            " 20%|██        | 50/250 [01:29<05:50,  1.75s/it]"
          ]
        },
        {
          "metadata": {
            "tags": null
          },
          "name": "stdout",
          "output_type": "stream",
          "text": [
            "\n",
            "Epoch 12/20\n",
            "Iteration 50/250\n",
            "loss_D_fake: 0.57612\n",
            "loss_D_real: 0.61170\n",
            "loss_D: 0.59391\n",
            "loss_G_GAN: 1.12675\n",
            "loss_G_L1: 10.47107\n",
            "loss_G: 11.59782\n"
          ]
        },
        {
          "metadata": {
            "tags": null
          },
          "name": "stderr",
          "output_type": "stream",
          "text": [
            " 40%|████      | 100/250 [02:57<04:24,  1.76s/it]"
          ]
        },
        {
          "metadata": {
            "tags": null
          },
          "name": "stdout",
          "output_type": "stream",
          "text": [
            "\n",
            "Epoch 12/20\n",
            "Iteration 100/250\n",
            "loss_D_fake: 0.57483\n",
            "loss_D_real: 0.61008\n",
            "loss_D: 0.59245\n",
            "loss_G_GAN: 1.09545\n",
            "loss_G_L1: 10.47171\n",
            "loss_G: 11.56717\n"
          ]
        },
        {
          "metadata": {
            "tags": null
          },
          "name": "stderr",
          "output_type": "stream",
          "text": [
            " 60%|██████    | 150/250 [04:25<02:56,  1.76s/it]"
          ]
        },
        {
          "metadata": {
            "tags": null
          },
          "name": "stdout",
          "output_type": "stream",
          "text": [
            "\n",
            "Epoch 12/20\n",
            "Iteration 150/250\n",
            "loss_D_fake: 0.57593\n",
            "loss_D_real: 0.61219\n",
            "loss_D: 0.59406\n",
            "loss_G_GAN: 1.08621\n",
            "loss_G_L1: 10.43808\n",
            "loss_G: 11.52429\n"
          ]
        },
        {
          "metadata": {
            "tags": null
          },
          "name": "stderr",
          "output_type": "stream",
          "text": [
            " 80%|████████  | 200/250 [05:53<01:27,  1.75s/it]"
          ]
        },
        {
          "metadata": {
            "tags": null
          },
          "name": "stdout",
          "output_type": "stream",
          "text": [
            "\n",
            "Epoch 12/20\n",
            "Iteration 200/250\n",
            "loss_D_fake: 0.57762\n",
            "loss_D_real: 0.60304\n",
            "loss_D: 0.59033\n",
            "loss_G_GAN: 1.09154\n",
            "loss_G_L1: 10.47449\n",
            "loss_G: 11.56604\n"
          ]
        },
        {
          "metadata": {
            "tags": null
          },
          "name": "stderr",
          "output_type": "stream",
          "text": [
            "100%|██████████| 250/250 [07:20<00:00,  1.76s/it]\n"
          ]
        },
        {
          "metadata": {
            "tags": null
          },
          "name": "stdout",
          "output_type": "stream",
          "text": [
            "\n",
            "Epoch 12/20\n",
            "Iteration 250/250\n",
            "loss_D_fake: 0.57684\n",
            "loss_D_real: 0.60135\n",
            "loss_D: 0.58909\n",
            "loss_G_GAN: 1.10106\n",
            "loss_G_L1: 10.52051\n",
            "loss_G: 11.62158\n"
          ]
        },
        {
          "metadata": {
            "tags": null
          },
          "name": "stderr",
          "output_type": "stream",
          "text": [
            " 20%|██        | 50/250 [01:29<05:52,  1.76s/it]"
          ]
        },
        {
          "metadata": {
            "tags": null
          },
          "name": "stdout",
          "output_type": "stream",
          "text": [
            "\n",
            "Epoch 13/20\n",
            "Iteration 50/250\n",
            "loss_D_fake: 0.55231\n",
            "loss_D_real: 0.64016\n",
            "loss_D: 0.59623\n",
            "loss_G_GAN: 1.10765\n",
            "loss_G_L1: 10.49372\n",
            "loss_G: 11.60138\n"
          ]
        },
        {
          "metadata": {
            "tags": null
          },
          "name": "stderr",
          "output_type": "stream",
          "text": [
            " 40%|████      | 100/250 [02:57<04:23,  1.76s/it]"
          ]
        },
        {
          "metadata": {
            "tags": null
          },
          "name": "stdout",
          "output_type": "stream",
          "text": [
            "\n",
            "Epoch 13/20\n",
            "Iteration 100/250\n",
            "loss_D_fake: 0.54894\n",
            "loss_D_real: 0.63379\n",
            "loss_D: 0.59137\n",
            "loss_G_GAN: 1.11310\n",
            "loss_G_L1: 10.60620\n",
            "loss_G: 11.71930\n"
          ]
        },
        {
          "metadata": {
            "tags": null
          },
          "name": "stderr",
          "output_type": "stream",
          "text": [
            " 60%|██████    | 150/250 [04:25<02:56,  1.76s/it]"
          ]
        },
        {
          "metadata": {
            "tags": null
          },
          "name": "stdout",
          "output_type": "stream",
          "text": [
            "\n",
            "Epoch 13/20\n",
            "Iteration 150/250\n",
            "loss_D_fake: 0.55724\n",
            "loss_D_real: 0.62168\n",
            "loss_D: 0.58946\n",
            "loss_G_GAN: 1.11986\n",
            "loss_G_L1: 10.51981\n",
            "loss_G: 11.63967\n"
          ]
        },
        {
          "metadata": {
            "tags": null
          },
          "name": "stderr",
          "output_type": "stream",
          "text": [
            " 80%|████████  | 200/250 [05:53<01:27,  1.76s/it]"
          ]
        },
        {
          "metadata": {
            "tags": null
          },
          "name": "stdout",
          "output_type": "stream",
          "text": [
            "\n",
            "Epoch 13/20\n",
            "Iteration 200/250\n",
            "loss_D_fake: 0.56571\n",
            "loss_D_real: 0.62118\n",
            "loss_D: 0.59344\n",
            "loss_G_GAN: 1.10467\n",
            "loss_G_L1: 10.51178\n",
            "loss_G: 11.61645\n"
          ]
        },
        {
          "metadata": {
            "tags": null
          },
          "name": "stderr",
          "output_type": "stream",
          "text": [
            "100%|██████████| 250/250 [07:21<00:00,  1.76s/it]\n"
          ]
        },
        {
          "metadata": {
            "tags": null
          },
          "name": "stdout",
          "output_type": "stream",
          "text": [
            "\n",
            "Epoch 13/20\n",
            "Iteration 250/250\n",
            "loss_D_fake: 0.56849\n",
            "loss_D_real: 0.61529\n",
            "loss_D: 0.59189\n",
            "loss_G_GAN: 1.09457\n",
            "loss_G_L1: 10.47355\n",
            "loss_G: 11.56812\n"
          ]
        },
        {
          "metadata": {
            "tags": null
          },
          "name": "stderr",
          "output_type": "stream",
          "text": [
            " 20%|██        | 50/250 [01:29<05:52,  1.76s/it]"
          ]
        },
        {
          "metadata": {
            "tags": null
          },
          "name": "stdout",
          "output_type": "stream",
          "text": [
            "\n",
            "Epoch 14/20\n",
            "Iteration 50/250\n",
            "loss_D_fake: 0.55185\n",
            "loss_D_real: 0.62113\n",
            "loss_D: 0.58649\n",
            "loss_G_GAN: 1.10331\n",
            "loss_G_L1: 10.68082\n",
            "loss_G: 11.78412\n"
          ]
        },
        {
          "metadata": {
            "tags": null
          },
          "name": "stderr",
          "output_type": "stream",
          "text": [
            " 40%|████      | 100/250 [02:57<04:24,  1.76s/it]"
          ]
        },
        {
          "metadata": {
            "tags": null
          },
          "name": "stdout",
          "output_type": "stream",
          "text": [
            "\n",
            "Epoch 14/20\n",
            "Iteration 100/250\n",
            "loss_D_fake: 0.57582\n",
            "loss_D_real: 0.61495\n",
            "loss_D: 0.59539\n",
            "loss_G_GAN: 1.11054\n",
            "loss_G_L1: 10.51079\n",
            "loss_G: 11.62133\n"
          ]
        },
        {
          "metadata": {
            "tags": null
          },
          "name": "stderr",
          "output_type": "stream",
          "text": [
            " 60%|██████    | 150/250 [04:24<02:55,  1.76s/it]"
          ]
        },
        {
          "metadata": {
            "tags": null
          },
          "name": "stdout",
          "output_type": "stream",
          "text": [
            "\n",
            "Epoch 14/20\n",
            "Iteration 150/250\n",
            "loss_D_fake: 0.57089\n",
            "loss_D_real: 0.61822\n",
            "loss_D: 0.59455\n",
            "loss_G_GAN: 1.09706\n",
            "loss_G_L1: 10.44599\n",
            "loss_G: 11.54305\n"
          ]
        },
        {
          "output_type": "stream",
          "name": "stderr",
          "text": [
            " 80%|████████  | 200/250 [05:52<01:28,  1.76s/it]"
          ]
        },
        {
          "output_type": "stream",
          "name": "stdout",
          "text": [
            "\n",
            "Epoch 14/20\n",
            "Iteration 200/250\n",
            "loss_D_fake: 0.56955\n",
            "loss_D_real: 0.61646\n",
            "loss_D: 0.59301\n",
            "loss_G_GAN: 1.09830\n",
            "loss_G_L1: 10.44990\n",
            "loss_G: 11.54820\n"
          ]
        },
        {
          "output_type": "stream",
          "name": "stderr",
          "text": [
            "100%|██████████| 250/250 [07:21<00:00,  1.76s/it]\n"
          ]
        },
        {
          "output_type": "stream",
          "name": "stdout",
          "text": [
            "\n",
            "Epoch 14/20\n",
            "Iteration 250/250\n",
            "loss_D_fake: 0.56838\n",
            "loss_D_real: 0.61654\n",
            "loss_D: 0.59246\n",
            "loss_G_GAN: 1.10024\n",
            "loss_G_L1: 10.44561\n",
            "loss_G: 11.54586\n"
          ]
        },
        {
          "output_type": "stream",
          "name": "stderr",
          "text": [
            " 20%|██        | 50/250 [01:29<05:53,  1.77s/it]"
          ]
        },
        {
          "output_type": "stream",
          "name": "stdout",
          "text": [
            "\n",
            "Epoch 15/20\n",
            "Iteration 50/250\n",
            "loss_D_fake: 0.60454\n",
            "loss_D_real: 0.61757\n",
            "loss_D: 0.61106\n",
            "loss_G_GAN: 1.06534\n",
            "loss_G_L1: 10.27292\n",
            "loss_G: 11.33825\n"
          ]
        },
        {
          "output_type": "stream",
          "name": "stderr",
          "text": [
            " 40%|████      | 100/250 [02:57<04:23,  1.76s/it]"
          ]
        },
        {
          "output_type": "stream",
          "name": "stdout",
          "text": [
            "\n",
            "Epoch 15/20\n",
            "Iteration 100/250\n",
            "loss_D_fake: 0.58525\n",
            "loss_D_real: 0.61027\n",
            "loss_D: 0.59776\n",
            "loss_G_GAN: 1.07731\n",
            "loss_G_L1: 10.35459\n",
            "loss_G: 11.43190\n"
          ]
        },
        {
          "output_type": "stream",
          "name": "stderr",
          "text": [
            " 60%|██████    | 150/250 [04:25<02:57,  1.77s/it]"
          ]
        },
        {
          "output_type": "stream",
          "name": "stdout",
          "text": [
            "\n",
            "Epoch 15/20\n",
            "Iteration 150/250\n",
            "loss_D_fake: 0.58301\n",
            "loss_D_real: 0.61105\n",
            "loss_D: 0.59703\n",
            "loss_G_GAN: 1.07134\n",
            "loss_G_L1: 10.34748\n",
            "loss_G: 11.41882\n"
          ]
        },
        {
          "output_type": "stream",
          "name": "stderr",
          "text": [
            " 80%|████████  | 200/250 [05:53<01:28,  1.76s/it]"
          ]
        },
        {
          "output_type": "stream",
          "name": "stdout",
          "text": [
            "\n",
            "Epoch 15/20\n",
            "Iteration 200/250\n",
            "loss_D_fake: 0.57824\n",
            "loss_D_real: 0.60620\n",
            "loss_D: 0.59222\n",
            "loss_G_GAN: 1.08301\n",
            "loss_G_L1: 10.42806\n",
            "loss_G: 11.51108\n"
          ]
        },
        {
          "output_type": "stream",
          "name": "stderr",
          "text": [
            "100%|██████████| 250/250 [07:21<00:00,  1.77s/it]\n"
          ]
        },
        {
          "output_type": "stream",
          "name": "stdout",
          "text": [
            "\n",
            "Epoch 15/20\n",
            "Iteration 250/250\n",
            "loss_D_fake: 0.58639\n",
            "loss_D_real: 0.62017\n",
            "loss_D: 0.60328\n",
            "loss_G_GAN: 1.09984\n",
            "loss_G_L1: 10.41850\n",
            "loss_G: 11.51834\n"
          ]
        },
        {
          "output_type": "stream",
          "name": "stderr",
          "text": [
            " 20%|██        | 50/250 [01:29<05:50,  1.75s/it]"
          ]
        },
        {
          "output_type": "stream",
          "name": "stdout",
          "text": [
            "\n",
            "Epoch 16/20\n",
            "Iteration 50/250\n",
            "loss_D_fake: 0.58254\n",
            "loss_D_real: 0.61023\n",
            "loss_D: 0.59638\n",
            "loss_G_GAN: 1.06048\n",
            "loss_G_L1: 10.14537\n",
            "loss_G: 11.20584\n"
          ]
        },
        {
          "output_type": "stream",
          "name": "stderr",
          "text": [
            " 40%|████      | 100/250 [02:57<04:24,  1.76s/it]"
          ]
        },
        {
          "output_type": "stream",
          "name": "stdout",
          "text": [
            "\n",
            "Epoch 16/20\n",
            "Iteration 100/250\n",
            "loss_D_fake: 0.56639\n",
            "loss_D_real: 0.60129\n",
            "loss_D: 0.58384\n",
            "loss_G_GAN: 1.09037\n",
            "loss_G_L1: 10.28723\n",
            "loss_G: 11.37760\n"
          ]
        },
        {
          "output_type": "stream",
          "name": "stderr",
          "text": [
            " 60%|██████    | 150/250 [04:26<02:56,  1.77s/it]"
          ]
        },
        {
          "output_type": "stream",
          "name": "stdout",
          "text": [
            "\n",
            "Epoch 16/20\n",
            "Iteration 150/250\n",
            "loss_D_fake: 0.56758\n",
            "loss_D_real: 0.60898\n",
            "loss_D: 0.58828\n",
            "loss_G_GAN: 1.09114\n",
            "loss_G_L1: 10.28444\n",
            "loss_G: 11.37558\n"
          ]
        },
        {
          "output_type": "stream",
          "name": "stderr",
          "text": [
            " 80%|████████  | 200/250 [05:54<01:27,  1.76s/it]"
          ]
        },
        {
          "output_type": "stream",
          "name": "stdout",
          "text": [
            "\n",
            "Epoch 16/20\n",
            "Iteration 200/250\n",
            "loss_D_fake: 0.56681\n",
            "loss_D_real: 0.60921\n",
            "loss_D: 0.58801\n",
            "loss_G_GAN: 1.09310\n",
            "loss_G_L1: 10.29420\n",
            "loss_G: 11.38730\n"
          ]
        },
        {
          "output_type": "stream",
          "name": "stderr",
          "text": [
            "100%|██████████| 250/250 [07:22<00:00,  1.77s/it]\n"
          ]
        },
        {
          "output_type": "stream",
          "name": "stdout",
          "text": [
            "\n",
            "Epoch 16/20\n",
            "Iteration 250/250\n",
            "loss_D_fake: 0.56809\n",
            "loss_D_real: 0.61283\n",
            "loss_D: 0.59046\n",
            "loss_G_GAN: 1.09184\n",
            "loss_G_L1: 10.32908\n",
            "loss_G: 11.42092\n"
          ]
        },
        {
          "output_type": "stream",
          "name": "stderr",
          "text": [
            " 20%|██        | 50/250 [01:29<05:51,  1.76s/it]"
          ]
        },
        {
          "output_type": "stream",
          "name": "stdout",
          "text": [
            "\n",
            "Epoch 17/20\n",
            "Iteration 50/250\n",
            "loss_D_fake: 0.56544\n",
            "loss_D_real: 0.57608\n",
            "loss_D: 0.57076\n",
            "loss_G_GAN: 1.07060\n",
            "loss_G_L1: 10.26848\n",
            "loss_G: 11.33907\n"
          ]
        },
        {
          "output_type": "stream",
          "name": "stderr",
          "text": [
            " 40%|████      | 100/250 [02:57<04:23,  1.76s/it]"
          ]
        },
        {
          "output_type": "stream",
          "name": "stdout",
          "text": [
            "\n",
            "Epoch 17/20\n",
            "Iteration 100/250\n",
            "loss_D_fake: 0.56486\n",
            "loss_D_real: 0.60689\n",
            "loss_D: 0.58587\n",
            "loss_G_GAN: 1.10404\n",
            "loss_G_L1: 10.31107\n",
            "loss_G: 11.41511\n"
          ]
        },
        {
          "output_type": "stream",
          "name": "stderr",
          "text": [
            " 60%|██████    | 150/250 [04:24<02:56,  1.76s/it]"
          ]
        },
        {
          "output_type": "stream",
          "name": "stdout",
          "text": [
            "\n",
            "Epoch 17/20\n",
            "Iteration 150/250\n",
            "loss_D_fake: 0.57480\n",
            "loss_D_real: 0.60393\n",
            "loss_D: 0.58936\n",
            "loss_G_GAN: 1.09983\n",
            "loss_G_L1: 10.27312\n",
            "loss_G: 11.37295\n"
          ]
        },
        {
          "output_type": "stream",
          "name": "stderr",
          "text": [
            " 80%|████████  | 200/250 [05:53<01:28,  1.76s/it]"
          ]
        },
        {
          "output_type": "stream",
          "name": "stdout",
          "text": [
            "\n",
            "Epoch 17/20\n",
            "Iteration 200/250\n",
            "loss_D_fake: 0.57256\n",
            "loss_D_real: 0.59538\n",
            "loss_D: 0.58397\n",
            "loss_G_GAN: 1.09417\n",
            "loss_G_L1: 10.27000\n",
            "loss_G: 11.36417\n"
          ]
        },
        {
          "output_type": "stream",
          "name": "stderr",
          "text": [
            "100%|██████████| 250/250 [07:21<00:00,  1.77s/it]\n"
          ]
        },
        {
          "output_type": "stream",
          "name": "stdout",
          "text": [
            "\n",
            "Epoch 17/20\n",
            "Iteration 250/250\n",
            "loss_D_fake: 0.57675\n",
            "loss_D_real: 0.59813\n",
            "loss_D: 0.58744\n",
            "loss_G_GAN: 1.09200\n",
            "loss_G_L1: 10.34040\n",
            "loss_G: 11.43240\n"
          ]
        },
        {
          "output_type": "stream",
          "name": "stderr",
          "text": [
            " 20%|██        | 50/250 [01:29<05:51,  1.76s/it]"
          ]
        },
        {
          "output_type": "stream",
          "name": "stdout",
          "text": [
            "\n",
            "Epoch 18/20\n",
            "Iteration 50/250\n",
            "loss_D_fake: 0.57130\n",
            "loss_D_real: 0.61330\n",
            "loss_D: 0.59230\n",
            "loss_G_GAN: 1.09504\n",
            "loss_G_L1: 10.29218\n",
            "loss_G: 11.38723\n"
          ]
        },
        {
          "output_type": "stream",
          "name": "stderr",
          "text": [
            " 40%|████      | 100/250 [02:58<04:24,  1.76s/it]"
          ]
        },
        {
          "output_type": "stream",
          "name": "stdout",
          "text": [
            "\n",
            "Epoch 18/20\n",
            "Iteration 100/250\n",
            "loss_D_fake: 0.57469\n",
            "loss_D_real: 0.61061\n",
            "loss_D: 0.59265\n",
            "loss_G_GAN: 1.09096\n",
            "loss_G_L1: 10.44552\n",
            "loss_G: 11.53647\n"
          ]
        },
        {
          "output_type": "stream",
          "name": "stderr",
          "text": [
            " 60%|██████    | 150/250 [04:26<02:56,  1.76s/it]"
          ]
        },
        {
          "output_type": "stream",
          "name": "stdout",
          "text": [
            "\n",
            "Epoch 18/20\n",
            "Iteration 150/250\n",
            "loss_D_fake: 0.57648\n",
            "loss_D_real: 0.60157\n",
            "loss_D: 0.58902\n",
            "loss_G_GAN: 1.08743\n",
            "loss_G_L1: 10.35038\n",
            "loss_G: 11.43781\n"
          ]
        },
        {
          "output_type": "stream",
          "name": "stderr",
          "text": [
            " 80%|████████  | 200/250 [05:54<01:28,  1.76s/it]"
          ]
        },
        {
          "output_type": "stream",
          "name": "stdout",
          "text": [
            "\n",
            "Epoch 18/20\n",
            "Iteration 200/250\n",
            "loss_D_fake: 0.57829\n",
            "loss_D_real: 0.60810\n",
            "loss_D: 0.59319\n",
            "loss_G_GAN: 1.08084\n",
            "loss_G_L1: 10.35958\n",
            "loss_G: 11.44042\n"
          ]
        },
        {
          "output_type": "stream",
          "name": "stderr",
          "text": [
            "100%|██████████| 250/250 [07:22<00:00,  1.77s/it]\n"
          ]
        },
        {
          "output_type": "stream",
          "name": "stdout",
          "text": [
            "\n",
            "Epoch 18/20\n",
            "Iteration 250/250\n",
            "loss_D_fake: 0.57659\n",
            "loss_D_real: 0.60891\n",
            "loss_D: 0.59275\n",
            "loss_G_GAN: 1.08612\n",
            "loss_G_L1: 10.32028\n",
            "loss_G: 11.40640\n"
          ]
        },
        {
          "output_type": "stream",
          "name": "stderr",
          "text": [
            " 20%|██        | 50/250 [01:29<05:52,  1.76s/it]"
          ]
        },
        {
          "output_type": "stream",
          "name": "stdout",
          "text": [
            "\n",
            "Epoch 19/20\n",
            "Iteration 50/250\n",
            "loss_D_fake: 0.56633\n",
            "loss_D_real: 0.61148\n",
            "loss_D: 0.58890\n",
            "loss_G_GAN: 1.04378\n",
            "loss_G_L1: 10.17430\n",
            "loss_G: 11.21808\n"
          ]
        },
        {
          "output_type": "stream",
          "name": "stderr",
          "text": [
            " 40%|████      | 100/250 [02:57<04:23,  1.76s/it]"
          ]
        },
        {
          "output_type": "stream",
          "name": "stdout",
          "text": [
            "\n",
            "Epoch 19/20\n",
            "Iteration 100/250\n",
            "loss_D_fake: 0.56856\n",
            "loss_D_real: 0.59905\n",
            "loss_D: 0.58380\n",
            "loss_G_GAN: 1.05884\n",
            "loss_G_L1: 10.31576\n",
            "loss_G: 11.37460\n"
          ]
        },
        {
          "output_type": "stream",
          "name": "stderr",
          "text": [
            " 60%|██████    | 150/250 [04:25<02:56,  1.77s/it]"
          ]
        },
        {
          "output_type": "stream",
          "name": "stdout",
          "text": [
            "\n",
            "Epoch 19/20\n",
            "Iteration 150/250\n",
            "loss_D_fake: 0.58022\n",
            "loss_D_real: 0.60440\n",
            "loss_D: 0.59231\n",
            "loss_G_GAN: 1.06376\n",
            "loss_G_L1: 10.31535\n",
            "loss_G: 11.37911\n"
          ]
        },
        {
          "output_type": "stream",
          "name": "stderr",
          "text": [
            " 80%|████████  | 200/250 [05:53<01:28,  1.76s/it]"
          ]
        },
        {
          "output_type": "stream",
          "name": "stdout",
          "text": [
            "\n",
            "Epoch 19/20\n",
            "Iteration 200/250\n",
            "loss_D_fake: 0.58215\n",
            "loss_D_real: 0.61329\n",
            "loss_D: 0.59772\n",
            "loss_G_GAN: 1.06719\n",
            "loss_G_L1: 10.31611\n",
            "loss_G: 11.38330\n"
          ]
        },
        {
          "output_type": "stream",
          "name": "stderr",
          "text": [
            "100%|██████████| 250/250 [07:21<00:00,  1.77s/it]\n"
          ]
        },
        {
          "output_type": "stream",
          "name": "stdout",
          "text": [
            "\n",
            "Epoch 19/20\n",
            "Iteration 250/250\n",
            "loss_D_fake: 0.57841\n",
            "loss_D_real: 0.60969\n",
            "loss_D: 0.59405\n",
            "loss_G_GAN: 1.07240\n",
            "loss_G_L1: 10.31864\n",
            "loss_G: 11.39104\n"
          ]
        },
        {
          "output_type": "stream",
          "name": "stderr",
          "text": [
            " 20%|██        | 50/250 [01:29<05:54,  1.77s/it]"
          ]
        },
        {
          "output_type": "stream",
          "name": "stdout",
          "text": [
            "\n",
            "Epoch 20/20\n",
            "Iteration 50/250\n",
            "loss_D_fake: 0.57983\n",
            "loss_D_real: 0.60926\n",
            "loss_D: 0.59454\n",
            "loss_G_GAN: 1.05538\n",
            "loss_G_L1: 10.20748\n",
            "loss_G: 11.26285\n"
          ]
        },
        {
          "output_type": "stream",
          "name": "stderr",
          "text": [
            " 40%|████      | 100/250 [02:57<04:22,  1.75s/it]"
          ]
        },
        {
          "output_type": "stream",
          "name": "stdout",
          "text": [
            "\n",
            "Epoch 20/20\n",
            "Iteration 100/250\n",
            "loss_D_fake: 0.56882\n",
            "loss_D_real: 0.60240\n",
            "loss_D: 0.58561\n",
            "loss_G_GAN: 1.08674\n",
            "loss_G_L1: 10.25749\n",
            "loss_G: 11.34423\n"
          ]
        },
        {
          "output_type": "stream",
          "name": "stderr",
          "text": [
            " 60%|██████    | 150/250 [04:24<02:55,  1.75s/it]"
          ]
        },
        {
          "output_type": "stream",
          "name": "stdout",
          "text": [
            "\n",
            "Epoch 20/20\n",
            "Iteration 150/250\n",
            "loss_D_fake: 0.57250\n",
            "loss_D_real: 0.60499\n",
            "loss_D: 0.58874\n",
            "loss_G_GAN: 1.10432\n",
            "loss_G_L1: 10.31211\n",
            "loss_G: 11.41644\n"
          ]
        },
        {
          "output_type": "stream",
          "name": "stderr",
          "text": [
            " 80%|████████  | 200/250 [05:52<01:28,  1.76s/it]"
          ]
        },
        {
          "output_type": "stream",
          "name": "stdout",
          "text": [
            "\n",
            "Epoch 20/20\n",
            "Iteration 200/250\n",
            "loss_D_fake: 0.57096\n",
            "loss_D_real: 0.60976\n",
            "loss_D: 0.59036\n",
            "loss_G_GAN: 1.09437\n",
            "loss_G_L1: 10.31577\n",
            "loss_G: 11.41014\n"
          ]
        },
        {
          "output_type": "stream",
          "name": "stderr",
          "text": [
            "100%|██████████| 250/250 [07:20<00:00,  1.76s/it]"
          ]
        },
        {
          "output_type": "stream",
          "name": "stdout",
          "text": [
            "\n",
            "Epoch 20/20\n",
            "Iteration 250/250\n",
            "loss_D_fake: 0.57226\n",
            "loss_D_real: 0.61581\n",
            "loss_D: 0.59404\n",
            "loss_G_GAN: 1.10102\n",
            "loss_G_L1: 10.26633\n",
            "loss_G: 11.36735\n"
          ]
        },
        {
          "output_type": "stream",
          "name": "stderr",
          "text": [
            "\n"
          ]
        }
      ]
    },
    {
      "cell_type": "code",
      "source": [
        "torch.save(GANmodel.state_dict(), \"/content/final_model_weights.pt\")"
      ],
      "metadata": {
        "id": "DPLA5S1R4nIr"
      },
      "execution_count": null,
      "outputs": []
    },
    {
      "cell_type": "code",
      "source": [
        "CNNmodel.load_state_dict(torch.load(\"/content/drive/My Drive/CNN-Encod-Decod.pt\"))\n",
        "CNNmodel.to(\"cuda\")\n",
        "CNNmodel.eval()\n",
        "\n",
        "GANmodel.load_state_dict(torch.load(\"/content/final_model_weights.pt\"))\n",
        "GANmodel.to(\"cuda\")\n",
        "GANmodel.eval()\n",
        "\n",
        "net_G.load_state_dict(torch.load(\"/content/drive/My Drive/res18-unet.pt\"))\n",
        "net_G.to(\"cuda\")\n",
        "net_G.eval()"
      ],
      "metadata": {
        "colab": {
          "base_uri": "https://localhost:8080/"
        },
        "collapsed": true,
        "id": "MZ3Yw2nepeGc",
        "outputId": "89cd4f33-3ba2-453f-ae7a-3f9343fa4dbc"
      },
      "execution_count": 20,
      "outputs": [
        {
          "output_type": "stream",
          "name": "stderr",
          "text": [
            "<ipython-input-20-d034049da4b2>:1: FutureWarning: You are using `torch.load` with `weights_only=False` (the current default value), which uses the default pickle module implicitly. It is possible to construct malicious pickle data which will execute arbitrary code during unpickling (See https://github.com/pytorch/pytorch/blob/main/SECURITY.md#untrusted-models for more details). In a future release, the default value for `weights_only` will be flipped to `True`. This limits the functions that could be executed during unpickling. Arbitrary objects will no longer be allowed to be loaded via this mode unless they are explicitly allowlisted by the user via `torch.serialization.add_safe_globals`. We recommend you start setting `weights_only=True` for any use case where you don't have full control of the loaded file. Please open an issue on GitHub for any issues related to this experimental feature.\n",
            "  CNNmodel.load_state_dict(torch.load(\"/content/drive/My Drive/CNN-Encod-Decod.pt\"))\n",
            "<ipython-input-20-d034049da4b2>:5: FutureWarning: You are using `torch.load` with `weights_only=False` (the current default value), which uses the default pickle module implicitly. It is possible to construct malicious pickle data which will execute arbitrary code during unpickling (See https://github.com/pytorch/pytorch/blob/main/SECURITY.md#untrusted-models for more details). In a future release, the default value for `weights_only` will be flipped to `True`. This limits the functions that could be executed during unpickling. Arbitrary objects will no longer be allowed to be loaded via this mode unless they are explicitly allowlisted by the user via `torch.serialization.add_safe_globals`. We recommend you start setting `weights_only=True` for any use case where you don't have full control of the loaded file. Please open an issue on GitHub for any issues related to this experimental feature.\n",
            "  GANmodel.load_state_dict(torch.load(\"/content/final_model_weights.pt\"))\n",
            "<ipython-input-20-d034049da4b2>:13: FutureWarning: You are using `torch.load` with `weights_only=False` (the current default value), which uses the default pickle module implicitly. It is possible to construct malicious pickle data which will execute arbitrary code during unpickling (See https://github.com/pytorch/pytorch/blob/main/SECURITY.md#untrusted-models for more details). In a future release, the default value for `weights_only` will be flipped to `True`. This limits the functions that could be executed during unpickling. Arbitrary objects will no longer be allowed to be loaded via this mode unless they are explicitly allowlisted by the user via `torch.serialization.add_safe_globals`. We recommend you start setting `weights_only=True` for any use case where you don't have full control of the loaded file. Please open an issue on GitHub for any issues related to this experimental feature.\n",
            "  net_G.load_state_dict(torch.load(\"/content/drive/My Drive/res18-unet.pt\"))\n"
          ]
        },
        {
          "output_type": "execute_result",
          "data": {
            "text/plain": [
              "DynamicUnet(\n",
              "  (layers): ModuleList(\n",
              "    (0): Sequential(\n",
              "      (0): Conv2d(1, 64, kernel_size=(7, 7), stride=(2, 2), padding=(3, 3), bias=False)\n",
              "      (1): BatchNorm2d(64, eps=1e-05, momentum=0.1, affine=True, track_running_stats=True)\n",
              "      (2): ReLU(inplace=True)\n",
              "      (3): MaxPool2d(kernel_size=3, stride=2, padding=1, dilation=1, ceil_mode=False)\n",
              "      (4): Sequential(\n",
              "        (0): BasicBlock(\n",
              "          (conv1): Conv2d(64, 64, kernel_size=(3, 3), stride=(1, 1), padding=(1, 1), bias=False)\n",
              "          (bn1): BatchNorm2d(64, eps=1e-05, momentum=0.1, affine=True, track_running_stats=True)\n",
              "          (relu): ReLU(inplace=True)\n",
              "          (conv2): Conv2d(64, 64, kernel_size=(3, 3), stride=(1, 1), padding=(1, 1), bias=False)\n",
              "          (bn2): BatchNorm2d(64, eps=1e-05, momentum=0.1, affine=True, track_running_stats=True)\n",
              "        )\n",
              "        (1): BasicBlock(\n",
              "          (conv1): Conv2d(64, 64, kernel_size=(3, 3), stride=(1, 1), padding=(1, 1), bias=False)\n",
              "          (bn1): BatchNorm2d(64, eps=1e-05, momentum=0.1, affine=True, track_running_stats=True)\n",
              "          (relu): ReLU(inplace=True)\n",
              "          (conv2): Conv2d(64, 64, kernel_size=(3, 3), stride=(1, 1), padding=(1, 1), bias=False)\n",
              "          (bn2): BatchNorm2d(64, eps=1e-05, momentum=0.1, affine=True, track_running_stats=True)\n",
              "        )\n",
              "      )\n",
              "      (5): Sequential(\n",
              "        (0): BasicBlock(\n",
              "          (conv1): Conv2d(64, 128, kernel_size=(3, 3), stride=(2, 2), padding=(1, 1), bias=False)\n",
              "          (bn1): BatchNorm2d(128, eps=1e-05, momentum=0.1, affine=True, track_running_stats=True)\n",
              "          (relu): ReLU(inplace=True)\n",
              "          (conv2): Conv2d(128, 128, kernel_size=(3, 3), stride=(1, 1), padding=(1, 1), bias=False)\n",
              "          (bn2): BatchNorm2d(128, eps=1e-05, momentum=0.1, affine=True, track_running_stats=True)\n",
              "          (downsample): Sequential(\n",
              "            (0): Conv2d(64, 128, kernel_size=(1, 1), stride=(2, 2), bias=False)\n",
              "            (1): BatchNorm2d(128, eps=1e-05, momentum=0.1, affine=True, track_running_stats=True)\n",
              "          )\n",
              "        )\n",
              "        (1): BasicBlock(\n",
              "          (conv1): Conv2d(128, 128, kernel_size=(3, 3), stride=(1, 1), padding=(1, 1), bias=False)\n",
              "          (bn1): BatchNorm2d(128, eps=1e-05, momentum=0.1, affine=True, track_running_stats=True)\n",
              "          (relu): ReLU(inplace=True)\n",
              "          (conv2): Conv2d(128, 128, kernel_size=(3, 3), stride=(1, 1), padding=(1, 1), bias=False)\n",
              "          (bn2): BatchNorm2d(128, eps=1e-05, momentum=0.1, affine=True, track_running_stats=True)\n",
              "        )\n",
              "      )\n",
              "      (6): Sequential(\n",
              "        (0): BasicBlock(\n",
              "          (conv1): Conv2d(128, 256, kernel_size=(3, 3), stride=(2, 2), padding=(1, 1), bias=False)\n",
              "          (bn1): BatchNorm2d(256, eps=1e-05, momentum=0.1, affine=True, track_running_stats=True)\n",
              "          (relu): ReLU(inplace=True)\n",
              "          (conv2): Conv2d(256, 256, kernel_size=(3, 3), stride=(1, 1), padding=(1, 1), bias=False)\n",
              "          (bn2): BatchNorm2d(256, eps=1e-05, momentum=0.1, affine=True, track_running_stats=True)\n",
              "          (downsample): Sequential(\n",
              "            (0): Conv2d(128, 256, kernel_size=(1, 1), stride=(2, 2), bias=False)\n",
              "            (1): BatchNorm2d(256, eps=1e-05, momentum=0.1, affine=True, track_running_stats=True)\n",
              "          )\n",
              "        )\n",
              "        (1): BasicBlock(\n",
              "          (conv1): Conv2d(256, 256, kernel_size=(3, 3), stride=(1, 1), padding=(1, 1), bias=False)\n",
              "          (bn1): BatchNorm2d(256, eps=1e-05, momentum=0.1, affine=True, track_running_stats=True)\n",
              "          (relu): ReLU(inplace=True)\n",
              "          (conv2): Conv2d(256, 256, kernel_size=(3, 3), stride=(1, 1), padding=(1, 1), bias=False)\n",
              "          (bn2): BatchNorm2d(256, eps=1e-05, momentum=0.1, affine=True, track_running_stats=True)\n",
              "        )\n",
              "      )\n",
              "      (7): Sequential(\n",
              "        (0): BasicBlock(\n",
              "          (conv1): Conv2d(256, 512, kernel_size=(3, 3), stride=(2, 2), padding=(1, 1), bias=False)\n",
              "          (bn1): BatchNorm2d(512, eps=1e-05, momentum=0.1, affine=True, track_running_stats=True)\n",
              "          (relu): ReLU(inplace=True)\n",
              "          (conv2): Conv2d(512, 512, kernel_size=(3, 3), stride=(1, 1), padding=(1, 1), bias=False)\n",
              "          (bn2): BatchNorm2d(512, eps=1e-05, momentum=0.1, affine=True, track_running_stats=True)\n",
              "          (downsample): Sequential(\n",
              "            (0): Conv2d(256, 512, kernel_size=(1, 1), stride=(2, 2), bias=False)\n",
              "            (1): BatchNorm2d(512, eps=1e-05, momentum=0.1, affine=True, track_running_stats=True)\n",
              "          )\n",
              "        )\n",
              "        (1): BasicBlock(\n",
              "          (conv1): Conv2d(512, 512, kernel_size=(3, 3), stride=(1, 1), padding=(1, 1), bias=False)\n",
              "          (bn1): BatchNorm2d(512, eps=1e-05, momentum=0.1, affine=True, track_running_stats=True)\n",
              "          (relu): ReLU(inplace=True)\n",
              "          (conv2): Conv2d(512, 512, kernel_size=(3, 3), stride=(1, 1), padding=(1, 1), bias=False)\n",
              "          (bn2): BatchNorm2d(512, eps=1e-05, momentum=0.1, affine=True, track_running_stats=True)\n",
              "        )\n",
              "      )\n",
              "    )\n",
              "    (1): BatchNorm2d(512, eps=1e-05, momentum=0.1, affine=True, track_running_stats=True)\n",
              "    (2): ReLU()\n",
              "    (3): Sequential(\n",
              "      (0): ConvLayer(\n",
              "        (0): Conv2d(512, 1024, kernel_size=(3, 3), stride=(1, 1), padding=(1, 1))\n",
              "        (1): ReLU()\n",
              "      )\n",
              "      (1): ConvLayer(\n",
              "        (0): Conv2d(1024, 512, kernel_size=(3, 3), stride=(1, 1), padding=(1, 1))\n",
              "        (1): ReLU()\n",
              "      )\n",
              "    )\n",
              "    (4): UnetBlock(\n",
              "      (shuf): PixelShuffle_ICNR(\n",
              "        (0): ConvLayer(\n",
              "          (0): Conv2d(512, 1024, kernel_size=(1, 1), stride=(1, 1))\n",
              "          (1): ReLU()\n",
              "        )\n",
              "        (1): PixelShuffle(upscale_factor=2)\n",
              "      )\n",
              "      (bn): BatchNorm2d(256, eps=1e-05, momentum=0.1, affine=True, track_running_stats=True)\n",
              "      (conv1): ConvLayer(\n",
              "        (0): Conv2d(512, 512, kernel_size=(3, 3), stride=(1, 1), padding=(1, 1))\n",
              "        (1): ReLU()\n",
              "      )\n",
              "      (conv2): ConvLayer(\n",
              "        (0): Conv2d(512, 512, kernel_size=(3, 3), stride=(1, 1), padding=(1, 1))\n",
              "        (1): ReLU()\n",
              "      )\n",
              "      (relu): ReLU()\n",
              "    )\n",
              "    (5): UnetBlock(\n",
              "      (shuf): PixelShuffle_ICNR(\n",
              "        (0): ConvLayer(\n",
              "          (0): Conv2d(512, 1024, kernel_size=(1, 1), stride=(1, 1))\n",
              "          (1): ReLU()\n",
              "        )\n",
              "        (1): PixelShuffle(upscale_factor=2)\n",
              "      )\n",
              "      (bn): BatchNorm2d(128, eps=1e-05, momentum=0.1, affine=True, track_running_stats=True)\n",
              "      (conv1): ConvLayer(\n",
              "        (0): Conv2d(384, 384, kernel_size=(3, 3), stride=(1, 1), padding=(1, 1))\n",
              "        (1): ReLU()\n",
              "      )\n",
              "      (conv2): ConvLayer(\n",
              "        (0): Conv2d(384, 384, kernel_size=(3, 3), stride=(1, 1), padding=(1, 1))\n",
              "        (1): ReLU()\n",
              "      )\n",
              "      (relu): ReLU()\n",
              "    )\n",
              "    (6): UnetBlock(\n",
              "      (shuf): PixelShuffle_ICNR(\n",
              "        (0): ConvLayer(\n",
              "          (0): Conv2d(384, 768, kernel_size=(1, 1), stride=(1, 1))\n",
              "          (1): ReLU()\n",
              "        )\n",
              "        (1): PixelShuffle(upscale_factor=2)\n",
              "      )\n",
              "      (bn): BatchNorm2d(64, eps=1e-05, momentum=0.1, affine=True, track_running_stats=True)\n",
              "      (conv1): ConvLayer(\n",
              "        (0): Conv2d(256, 256, kernel_size=(3, 3), stride=(1, 1), padding=(1, 1))\n",
              "        (1): ReLU()\n",
              "      )\n",
              "      (conv2): ConvLayer(\n",
              "        (0): Conv2d(256, 256, kernel_size=(3, 3), stride=(1, 1), padding=(1, 1))\n",
              "        (1): ReLU()\n",
              "      )\n",
              "      (relu): ReLU()\n",
              "    )\n",
              "    (7): UnetBlock(\n",
              "      (shuf): PixelShuffle_ICNR(\n",
              "        (0): ConvLayer(\n",
              "          (0): Conv2d(256, 512, kernel_size=(1, 1), stride=(1, 1))\n",
              "          (1): ReLU()\n",
              "        )\n",
              "        (1): PixelShuffle(upscale_factor=2)\n",
              "      )\n",
              "      (bn): BatchNorm2d(64, eps=1e-05, momentum=0.1, affine=True, track_running_stats=True)\n",
              "      (conv1): ConvLayer(\n",
              "        (0): Conv2d(192, 96, kernel_size=(3, 3), stride=(1, 1), padding=(1, 1))\n",
              "        (1): ReLU()\n",
              "      )\n",
              "      (conv2): ConvLayer(\n",
              "        (0): Conv2d(96, 96, kernel_size=(3, 3), stride=(1, 1), padding=(1, 1))\n",
              "        (1): ReLU()\n",
              "      )\n",
              "      (relu): ReLU()\n",
              "    )\n",
              "    (8): PixelShuffle_ICNR(\n",
              "      (0): ConvLayer(\n",
              "        (0): Conv2d(96, 384, kernel_size=(1, 1), stride=(1, 1))\n",
              "        (1): ReLU()\n",
              "      )\n",
              "      (1): PixelShuffle(upscale_factor=2)\n",
              "    )\n",
              "    (9): ResizeToOrig()\n",
              "    (10): MergeLayer()\n",
              "    (11): ResBlock(\n",
              "      (convpath): Sequential(\n",
              "        (0): ConvLayer(\n",
              "          (0): Conv2d(97, 97, kernel_size=(3, 3), stride=(1, 1), padding=(1, 1))\n",
              "          (1): ReLU()\n",
              "        )\n",
              "        (1): ConvLayer(\n",
              "          (0): Conv2d(97, 97, kernel_size=(3, 3), stride=(1, 1), padding=(1, 1))\n",
              "        )\n",
              "      )\n",
              "      (idpath): Sequential()\n",
              "      (act): ReLU(inplace=True)\n",
              "    )\n",
              "    (12): ConvLayer(\n",
              "      (0): Conv2d(97, 2, kernel_size=(1, 1), stride=(1, 1))\n",
              "    )\n",
              "    (13): fastai.layers.ToTensorBase(tensor_cls=<class 'fastai.torch_core.TensorBase'>)\n",
              "  )\n",
              ")"
            ]
          },
          "metadata": {},
          "execution_count": 20
        }
      ]
    },
    {
      "cell_type": "code",
      "source": [
        "import matplotlib.pyplot as plt\n",
        "L, AB = val_dataset[420]\n",
        "AB_pred = net_G(L.unsqueeze(0).to(\"cuda\"))\n",
        "image_pred = reconstruct_color_image(L, AB_pred.squeeze(0).cpu().detach())\n",
        "AB_pred_CNN = CNNmodel(L.unsqueeze(0).to(\"cuda\"))\n",
        "\n",
        "image_pred_CNN = reconstruct_color_image(L, AB_pred_CNN.squeeze(0).cpu().detach())\n",
        "\n",
        "AB_pred_GAN = GANmodel.net_G(L.unsqueeze(0).to(\"cuda\"))\n",
        "image_pred_GAN = reconstruct_color_image(L, AB_pred_GAN.squeeze(0).cpu().detach())\n",
        "image_orig = reconstruct_color_image(L, AB.squeeze(0).cpu().detach())\n",
        "\n",
        "plt.figure(figsize=(10, 5))\n",
        "plt.subplot(1, 5, 1)  # 1 row, 2 columns, 1st subplot\n",
        "plt.imshow(L.squeeze(0).cpu().detach(), cmap='gray')\n",
        "plt.title(\"Input Image\")\n",
        "plt.axis('off')  # Turn off axis labels\n",
        "\n",
        "# Plot the image\n",
        "plt.subplot(1, 5, 2)  # 1 row, 2 columns, 1st subplot\n",
        "plt.imshow(image_orig)\n",
        "plt.title(\"Original Image\")\n",
        "plt.axis('off')  # Turn off axis labels\n",
        "\n",
        "plt.subplot(1, 5, 3)  # 1 row, 2 columns, 2nd subplot\n",
        "plt.imshow(image_pred_CNN)  # Specify colormap for grayscale\n",
        "plt.title(\"Output Image CNN\")\n",
        "plt.axis('off')  # Turn off axis labels\n",
        "\n",
        "# Plot the second image\n",
        "plt.subplot(1, 5, 4)  # 1 row, 2 columns, 2nd subplot\n",
        "plt.imshow(image_pred)  # Specify colormap for grayscale\n",
        "plt.title(\"Output Image UNet\")\n",
        "plt.axis('off')  # Turn off axis labels\n",
        "\n",
        "plt.subplot(1, 5, 5)  # 1 row, 2 columns, 2nd subplot\n",
        "plt.imshow(image_pred_GAN)  # Specify colormap for grayscale\n",
        "plt.title(\"Output Image GAN\")\n",
        "plt.axis('off')  # Turn off axis labels\n",
        "\n",
        "plt.tight_layout()  # Adjust spacing between plots\n",
        "plt.show()"
      ],
      "metadata": {
        "colab": {
          "base_uri": "https://localhost:8080/",
          "height": 241
        },
        "id": "1QOo6rWeOLhh",
        "outputId": "905e5d41-57cd-400b-e306-c3fe4d0774a6"
      },
      "execution_count": 27,
      "outputs": [
        {
          "output_type": "display_data",
          "data": {
            "text/plain": [
              "<Figure size 1000x500 with 5 Axes>"
            ],
            "image/png": "[encoded data removed]"
          },
          "metadata": {}
        }
      ]
    },
    {
      "cell_type": "code",
      "source": [
        "def calculate_mae(y_pred, y):\n",
        "    # Compute absolute difference\n",
        "    absolute_diff = torch.abs(y_pred - y)\n",
        "\n",
        "    # Calculate sum over all dimensions\n",
        "    mae = torch.sum(torch.mean(absolute_diff, dim=(1,2,3)))\n",
        "    return mae"
      ],
      "metadata": {
        "id": "9DZdW1skkJu0"
      },
      "execution_count": 24,
      "outputs": []
    },
    {
      "cell_type": "code",
      "source": [
        "from tqdm import tqdm\n",
        "\n",
        "def getMAELoss(model):\n",
        "  count = 0\n",
        "  sum_mae = 0\n",
        "  device = \"cuda\"\n",
        "  for L, AB in tqdm(val_dataloader):\n",
        "      model = model.to(device)\n",
        "      AB_pred = model(L.to(device))\n",
        "      AB_pred = AB_pred.detach().cpu()\n",
        "      sum_mae+=calculate_mae(AB_pred, AB)\n",
        "      count+=L.shape[0]\n",
        "      torch.cuda.empty_cache()\n",
        "\n",
        "  return sum_mae.item()/count"
      ],
      "metadata": {
        "id": "ellSaoIls-rl"
      },
      "execution_count": 25,
      "outputs": []
    },
    {
      "cell_type": "code",
      "source": [
        "models = [CNNmodel.eval(), net_G.eval(), GANmodel.net_G.eval()]\n",
        "for model in models:\n",
        "  loss = getMAELoss(model)\n",
        "  print(loss)"
      ],
      "metadata": {
        "id": "7JLCIRxAtB_S",
        "colab": {
          "base_uri": "https://localhost:8080/"
        },
        "outputId": "7feedf6e-d2b7-4752-97fc-6cf5de3a497c"
      },
      "execution_count": null,
      "outputs": [
        {
          "output_type": "stream",
          "name": "stderr",
          "text": [
            "100%|██████████| 63/63 [00:14<00:00,  4.29it/s]\n"
          ]
        },
        {
          "output_type": "stream",
          "name": "stdout",
          "text": [
            "0.08478401947021484\n"
          ]
        },
        {
          "output_type": "stream",
          "name": "stderr",
          "text": [
            "100%|██████████| 63/63 [00:16<00:00,  3.86it/s]\n"
          ]
        },
        {
          "output_type": "stream",
          "name": "stdout",
          "text": [
            "0.08458656311035156\n"
          ]
        },
        {
          "output_type": "stream",
          "name": "stderr",
          "text": [
            "100%|██████████| 63/63 [00:15<00:00,  4.01it/s]"
          ]
        },
        {
          "output_type": "stream",
          "name": "stdout",
          "text": [
            "0.08066161346435546\n"
          ]
        },
        {
          "output_type": "stream",
          "name": "stderr",
          "text": [
            "\n"
          ]
        }
      ]
    },
    {
      "cell_type": "code",
      "source": [
        "def reconstruct_color_image_batch(L, AB):\n",
        "    L = (L + 1.) * 50.\n",
        "    AB = AB * 110.\n",
        "    Lab = torch.cat([L, AB], dim=1).permute(0, 2, 3, 1).cpu().numpy()\n",
        "    rgb_imgs = []\n",
        "    for img in Lab:\n",
        "        img_rgb = lab2rgb(img)\n",
        "        rgb_imgs.append(img_rgb)\n",
        "    return torch.tensor(np.stack(rgb_imgs, axis=0)).permute(0, 3, 1, 2)"
      ],
      "metadata": {
        "id": "N7FuSS59KiYG"
      },
      "execution_count": null,
      "outputs": []
    },
    {
      "cell_type": "code",
      "source": [
        "!pip install lpips\n",
        "import lpips"
      ],
      "metadata": {
        "colab": {
          "base_uri": "https://localhost:8080/"
        },
        "id": "NRfoQ5zLIV42",
        "outputId": "259cf27f-5125-4f2d-f387-190f6801dd63"
      },
      "execution_count": null,
      "outputs": [
        {
          "output_type": "stream",
          "name": "stdout",
          "text": [
            "Requirement already satisfied: lpips in /usr/local/lib/python3.10/dist-packages (0.1.4)\n",
            "Requirement already satisfied: torch>=0.4.0 in /usr/local/lib/python3.10/dist-packages (from lpips) (2.5.1+cu121)\n",
            "Requirement already satisfied: torchvision>=0.2.1 in /usr/local/lib/python3.10/dist-packages (from lpips) (0.20.1+cu121)\n",
            "Requirement already satisfied: numpy>=1.14.3 in /usr/local/lib/python3.10/dist-packages (from lpips) (1.26.4)\n",
            "Requirement already satisfied: scipy>=1.0.1 in /usr/local/lib/python3.10/dist-packages (from lpips) (1.13.1)\n",
            "Requirement already satisfied: tqdm>=4.28.1 in /usr/local/lib/python3.10/dist-packages (from lpips) (4.66.6)\n",
            "Requirement already satisfied: filelock in /usr/local/lib/python3.10/dist-packages (from torch>=0.4.0->lpips) (3.16.1)\n",
            "Requirement already satisfied: typing-extensions>=4.8.0 in /usr/local/lib/python3.10/dist-packages (from torch>=0.4.0->lpips) (4.12.2)\n",
            "Requirement already satisfied: networkx in /usr/local/lib/python3.10/dist-packages (from torch>=0.4.0->lpips) (3.4.2)\n",
            "Requirement already satisfied: jinja2 in /usr/local/lib/python3.10/dist-packages (from torch>=0.4.0->lpips) (3.1.4)\n",
            "Requirement already satisfied: fsspec in /usr/local/lib/python3.10/dist-packages (from torch>=0.4.0->lpips) (2024.10.0)\n",
            "Requirement already satisfied: sympy==1.13.1 in /usr/local/lib/python3.10/dist-packages (from torch>=0.4.0->lpips) (1.13.1)\n",
            "Requirement already satisfied: mpmath<1.4,>=1.1.0 in /usr/local/lib/python3.10/dist-packages (from sympy==1.13.1->torch>=0.4.0->lpips) (1.3.0)\n",
            "Requirement already satisfied: pillow!=8.3.*,>=5.3.0 in /usr/local/lib/python3.10/dist-packages (from torchvision>=0.2.1->lpips) (11.0.0)\n",
            "Requirement already satisfied: MarkupSafe>=2.0 in /usr/local/lib/python3.10/dist-packages (from jinja2->torch>=0.4.0->lpips) (3.0.2)\n"
          ]
        }
      ]
    },
    {
      "cell_type": "code",
      "source": [
        "from tqdm import tqdm\n",
        "\n",
        "def getlpipsScore(model): #Function to get LPIPS score\n",
        "  device = torch.device(\"cuda\" if torch.cuda.is_available() else \"cpu\")\n",
        "  lpips_model = lpips.LPIPS(net='vgg') #We use VGG features\n",
        "  model = model.to(device)\n",
        "  score = 0\n",
        "  count = 0\n",
        "  for L, AB in tqdm(val_dataloader):\n",
        "    AB_pred = model(L.to(device))\n",
        "    AB_pred = AB_pred.detach().cpu()\n",
        "    orig_imgs = reconstruct_color_image_batch(L, AB)\n",
        "    pred_imgs = reconstruct_color_image_batch(L, AB_pred)\n",
        "    score += torch.sum(lpips_model(orig_imgs, pred_imgs))\n",
        "    count += L.shape[0]\n",
        "    torch.cuda.empty_cache()\n",
        "\n",
        "  return score.item()/count"
      ],
      "metadata": {
        "id": "E1H9BFIBLxII"
      },
      "execution_count": null,
      "outputs": []
    },
    {
      "cell_type": "code",
      "source": [
        "getlpipsScore(CNNmodel.eval())"
      ],
      "metadata": {
        "colab": {
          "base_uri": "https://localhost:8080/"
        },
        "id": "M0WCz6zMNRDn",
        "outputId": "9719e50f-a9c6-4299-bb4d-fca55b2492b2"
      },
      "execution_count": null,
      "outputs": [
        {
          "output_type": "stream",
          "name": "stdout",
          "text": [
            "Setting up [LPIPS] perceptual loss: trunk [vgg], v[0.1], spatial [off]\n"
          ]
        },
        {
          "output_type": "stream",
          "name": "stderr",
          "text": [
            "/usr/local/lib/python3.10/dist-packages/torchvision/models/_utils.py:208: UserWarning: The parameter 'pretrained' is deprecated since 0.13 and may be removed in the future, please use 'weights' instead.\n",
            "  warnings.warn(\n",
            "/usr/local/lib/python3.10/dist-packages/torchvision/models/_utils.py:223: UserWarning: Arguments other than a weight enum or `None` for 'weights' are deprecated since 0.13 and may be removed in the future. The current behavior is equivalent to passing `weights=VGG16_Weights.IMAGENET1K_V1`. You can also use `weights=VGG16_Weights.DEFAULT` to get the most up-to-date weights.\n",
            "  warnings.warn(msg)\n",
            "/usr/local/lib/python3.10/dist-packages/lpips/lpips.py:107: FutureWarning: You are using `torch.load` with `weights_only=False` (the current default value), which uses the default pickle module implicitly. It is possible to construct malicious pickle data which will execute arbitrary code during unpickling (See https://github.com/pytorch/pytorch/blob/main/SECURITY.md#untrusted-models for more details). In a future release, the default value for `weights_only` will be flipped to `True`. This limits the functions that could be executed during unpickling. Arbitrary objects will no longer be allowed to be loaded via this mode unless they are explicitly allowlisted by the user via `torch.serialization.add_safe_globals`. We recommend you start setting `weights_only=True` for any use case where you don't have full control of the loaded file. Please open an issue on GitHub for any issues related to this experimental feature.\n",
            "  self.load_state_dict(torch.load(model_path, map_location='cpu'), strict=False)\n"
          ]
        },
        {
          "output_type": "stream",
          "name": "stdout",
          "text": [
            "Loading model from: /usr/local/lib/python3.10/dist-packages/lpips/weights/v0.1/vgg.pth\n"
          ]
        },
        {
          "output_type": "stream",
          "name": "stderr",
          "text": [
            "100%|██████████| 63/63 [06:40<00:00,  6.36s/it]\n"
          ]
        },
        {
          "output_type": "execute_result",
          "data": {
            "text/plain": [
              "0.14790974426269532"
            ]
          },
          "metadata": {},
          "execution_count": 23
        }
      ]
    },
    {
      "cell_type": "code",
      "source": [
        "getlpipsScore(net_G.eval())"
      ],
      "metadata": {
        "colab": {
          "base_uri": "https://localhost:8080/"
        },
        "id": "4tbh0AE9ZDDV",
        "outputId": "5769b604-dc72-4436-f5b5-fa543633669a"
      },
      "execution_count": null,
      "outputs": [
        {
          "output_type": "stream",
          "name": "stdout",
          "text": [
            "Setting up [LPIPS] perceptual loss: trunk [vgg], v[0.1], spatial [off]\n"
          ]
        },
        {
          "output_type": "stream",
          "name": "stderr",
          "text": [
            "/usr/local/lib/python3.10/dist-packages/torchvision/models/_utils.py:208: UserWarning: The parameter 'pretrained' is deprecated since 0.13 and may be removed in the future, please use 'weights' instead.\n",
            "  warnings.warn(\n",
            "/usr/local/lib/python3.10/dist-packages/torchvision/models/_utils.py:223: UserWarning: Arguments other than a weight enum or `None` for 'weights' are deprecated since 0.13 and may be removed in the future. The current behavior is equivalent to passing `weights=VGG16_Weights.IMAGENET1K_V1`. You can also use `weights=VGG16_Weights.DEFAULT` to get the most up-to-date weights.\n",
            "  warnings.warn(msg)\n",
            "/usr/local/lib/python3.10/dist-packages/lpips/lpips.py:107: FutureWarning: You are using `torch.load` with `weights_only=False` (the current default value), which uses the default pickle module implicitly. It is possible to construct malicious pickle data which will execute arbitrary code during unpickling (See https://github.com/pytorch/pytorch/blob/main/SECURITY.md#untrusted-models for more details). In a future release, the default value for `weights_only` will be flipped to `True`. This limits the functions that could be executed during unpickling. Arbitrary objects will no longer be allowed to be loaded via this mode unless they are explicitly allowlisted by the user via `torch.serialization.add_safe_globals`. We recommend you start setting `weights_only=True` for any use case where you don't have full control of the loaded file. Please open an issue on GitHub for any issues related to this experimental feature.\n",
            "  self.load_state_dict(torch.load(model_path, map_location='cpu'), strict=False)\n"
          ]
        },
        {
          "output_type": "stream",
          "name": "stdout",
          "text": [
            "Loading model from: /usr/local/lib/python3.10/dist-packages/lpips/weights/v0.1/vgg.pth\n"
          ]
        },
        {
          "output_type": "stream",
          "name": "stderr",
          "text": [
            "\r  0%|          | 0/63 [00:00<?, ?it/s]<ipython-input-18-383fa800de4a>:7: UserWarning: Conversion from CIE-LAB, via XYZ to sRGB color space resulted in 1 negative Z values that have been clipped to zero\n",
            "  img_rgb = lab2rgb(img)\n",
            "  2%|▏         | 1/63 [00:07<08:10,  7.92s/it]<ipython-input-18-383fa800de4a>:7: UserWarning: Conversion from CIE-LAB, via XYZ to sRGB color space resulted in 7 negative Z values that have been clipped to zero\n",
            "  img_rgb = lab2rgb(img)\n",
            "<ipython-input-18-383fa800de4a>:7: UserWarning: Conversion from CIE-LAB, via XYZ to sRGB color space resulted in 2 negative Z values that have been clipped to zero\n",
            "  img_rgb = lab2rgb(img)\n",
            "  5%|▍         | 3/63 [00:19<06:14,  6.24s/it]<ipython-input-18-383fa800de4a>:7: UserWarning: Conversion from CIE-LAB, via XYZ to sRGB color space resulted in 9 negative Z values that have been clipped to zero\n",
            "  img_rgb = lab2rgb(img)\n",
            " 10%|▉         | 6/63 [00:35<05:22,  5.66s/it]<ipython-input-18-383fa800de4a>:7: UserWarning: Conversion from CIE-LAB, via XYZ to sRGB color space resulted in 3 negative Z values that have been clipped to zero\n",
            "  img_rgb = lab2rgb(img)\n",
            " 13%|█▎        | 8/63 [00:47<05:23,  5.89s/it]<ipython-input-18-383fa800de4a>:7: UserWarning: Conversion from CIE-LAB, via XYZ to sRGB color space resulted in 4 negative Z values that have been clipped to zero\n",
            "  img_rgb = lab2rgb(img)\n",
            " 43%|████▎     | 27/63 [02:40<03:31,  5.86s/it]<ipython-input-18-383fa800de4a>:7: UserWarning: Conversion from CIE-LAB, via XYZ to sRGB color space resulted in 12 negative Z values that have been clipped to zero\n",
            "  img_rgb = lab2rgb(img)\n",
            " 46%|████▌     | 29/63 [02:52<03:21,  5.94s/it]<ipython-input-18-383fa800de4a>:7: UserWarning: Conversion from CIE-LAB, via XYZ to sRGB color space resulted in 21 negative Z values that have been clipped to zero\n",
            "  img_rgb = lab2rgb(img)\n",
            " 52%|█████▏    | 33/63 [03:17<03:01,  6.06s/it]<ipython-input-18-383fa800de4a>:7: UserWarning: Conversion from CIE-LAB, via XYZ to sRGB color space resulted in 10 negative Z values that have been clipped to zero\n",
            "  img_rgb = lab2rgb(img)\n",
            " 60%|██████    | 38/63 [03:47<02:29,  5.97s/it]<ipython-input-18-383fa800de4a>:7: UserWarning: Conversion from CIE-LAB, via XYZ to sRGB color space resulted in 8 negative Z values that have been clipped to zero\n",
            "  img_rgb = lab2rgb(img)\n",
            " 62%|██████▏   | 39/63 [03:54<02:28,  6.18s/it]<ipython-input-18-383fa800de4a>:7: UserWarning: Conversion from CIE-LAB, via XYZ to sRGB color space resulted in 5 negative Z values that have been clipped to zero\n",
            "  img_rgb = lab2rgb(img)\n",
            " 73%|███████▎  | 46/63 [04:37<01:44,  6.17s/it]<ipython-input-18-383fa800de4a>:7: UserWarning: Conversion from CIE-LAB, via XYZ to sRGB color space resulted in 13 negative Z values that have been clipped to zero\n",
            "  img_rgb = lab2rgb(img)\n",
            " 84%|████████▍ | 53/63 [05:20<01:02,  6.28s/it]<ipython-input-18-383fa800de4a>:7: UserWarning: Conversion from CIE-LAB, via XYZ to sRGB color space resulted in 49 negative Z values that have been clipped to zero\n",
            "  img_rgb = lab2rgb(img)\n",
            "100%|██████████| 63/63 [06:20<00:00,  6.04s/it]\n"
          ]
        },
        {
          "output_type": "execute_result",
          "data": {
            "text/plain": [
              "0.1407251434326172"
            ]
          },
          "metadata": {},
          "execution_count": 25
        }
      ]
    },
    {
      "cell_type": "code",
      "source": [
        "getlpipsScore(GANmodel.net_G.eval())"
      ],
      "metadata": {
        "colab": {
          "base_uri": "https://localhost:8080/"
        },
        "id": "NU3fp_EIRBkh",
        "outputId": "5bab3e1a-c8a4-4b26-c6c6-a24922d3644d"
      },
      "execution_count": null,
      "outputs": [
        {
          "output_type": "stream",
          "name": "stdout",
          "text": [
            "Setting up [LPIPS] perceptual loss: trunk [vgg], v[0.1], spatial [off]\n"
          ]
        },
        {
          "output_type": "stream",
          "name": "stderr",
          "text": [
            "/usr/local/lib/python3.10/dist-packages/torchvision/models/_utils.py:208: UserWarning: The parameter 'pretrained' is deprecated since 0.13 and may be removed in the future, please use 'weights' instead.\n",
            "  warnings.warn(\n",
            "/usr/local/lib/python3.10/dist-packages/torchvision/models/_utils.py:223: UserWarning: Arguments other than a weight enum or `None` for 'weights' are deprecated since 0.13 and may be removed in the future. The current behavior is equivalent to passing `weights=VGG16_Weights.IMAGENET1K_V1`. You can also use `weights=VGG16_Weights.DEFAULT` to get the most up-to-date weights.\n",
            "  warnings.warn(msg)\n",
            "/usr/local/lib/python3.10/dist-packages/lpips/lpips.py:107: FutureWarning: You are using `torch.load` with `weights_only=False` (the current default value), which uses the default pickle module implicitly. It is possible to construct malicious pickle data which will execute arbitrary code during unpickling (See https://github.com/pytorch/pytorch/blob/main/SECURITY.md#untrusted-models for more details). In a future release, the default value for `weights_only` will be flipped to `True`. This limits the functions that could be executed during unpickling. Arbitrary objects will no longer be allowed to be loaded via this mode unless they are explicitly allowlisted by the user via `torch.serialization.add_safe_globals`. We recommend you start setting `weights_only=True` for any use case where you don't have full control of the loaded file. Please open an issue on GitHub for any issues related to this experimental feature.\n",
            "  self.load_state_dict(torch.load(model_path, map_location='cpu'), strict=False)\n"
          ]
        },
        {
          "output_type": "stream",
          "name": "stdout",
          "text": [
            "Loading model from: /usr/local/lib/python3.10/dist-packages/lpips/weights/v0.1/vgg.pth\n"
          ]
        },
        {
          "output_type": "stream",
          "name": "stderr",
          "text": [
            "100%|██████████| 63/63 [06:27<00:00,  6.15s/it]\n"
          ]
        },
        {
          "output_type": "execute_result",
          "data": {
            "text/plain": [
              "0.13230279541015624"
            ]
          },
          "metadata": {},
          "execution_count": 24
        }
      ]
    }
  ]
}